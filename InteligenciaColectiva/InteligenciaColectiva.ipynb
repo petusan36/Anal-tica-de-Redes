{
 "cells": [
  {
   "cell_type": "markdown",
   "metadata": {},
   "source": [
    "# Trabajo de Inteligencia Colectiva"
   ]
  },
  {
   "cell_type": "markdown",
   "metadata": {},
   "source": [
    "<h3>Con el fin de darle una orientación al trabajo seguiremos los siguientes pasos:</h3>\n",
    "<ol>\n",
    "<li>  <p>**Introducción**</p> </li>\n",
    "<li>  <p>**Descripción del Método utilizado**</p>  </li>\n",
    "<li>  <p>**Descripción del conjunto de datos**</p>  </li>\n",
    "<li>  <p>**Análisis del conjunto de datos**</p>  </li>\n",
    "<li>  <p>**Conclusión de las recomendaciones**</p> </li>\n",
    "</ol>"
   ]
  },
  {
   "cell_type": "markdown",
   "metadata": {},
   "source": [
    "<ol> <li> <p> **Introducción** </p></li> </ol>\n",
    "==\n",
    "**¿Que son los Sistemas de Recomendación?** \n",
    "\n",
    "**Def:** Un sistema de recomendación es un **sistema inteligente ** que proporciona a los **usuarios** un serie de **sugerencias personalizadas** (recomendaciones) **sobre un determinado tipo de elementos** (items). Los sistemas de recomendación estudian las características de cada usuario y mediante un procesamiento de los datos, encuentra un subconjunto de items que pueden resultar de interés para el usuario."
   ]
  },
  {
   "cell_type": "markdown",
   "metadata": {},
   "source": [
    "Los Sistemas de Recomendación, se clasifican en 4 tipos:\n",
    "\n",
    "<ol>\n",
    "<li><p>**Filtrado Basado en contenido:** (ejm: Youtube) Las recomendaciones se basan en el conocimiento que se tiene sobre los items qe el usuario ha valorado (ya sea de forma implícita o explícita), y se le recomendarán items similares que le puedan gustar o interesar.</p></li>\n",
    "\n",
    "<li><p>**Filtrado Demográfico**: Estas recomendaciones se realizan en función de las características de los usuarios (edad, sexo, situación geográfica, profesión, etc).</p></li>\n",
    "\n",
    "<li><p>**Filtrado Colaborativo:** (ejem: Filmaffinity) El filtrado colaborativo consiste en ver que usuarios son similares al usuario activo (o usuario al que hay que realizarle las recomendaciones) y a continuación,recomendar aquellos items que no han sido votados por el usuario activo y que han resultado bien valorados por los usuarios similares.</p></li>\n",
    "\n",
    "<li><p>**Filtrado Híbrido:** (ejm: Amazon) Mezclan alguno de los tres filtrados mencionados anteriormente para realizar recomendaciones e incluso lo combinan con alguna otra técnica de inteligencia artificial como pueda ser la lógica borrosa o la computación evolutiva.</p></li>\n",
    "</ol>\n"
   ]
  },
  {
   "cell_type": "markdown",
   "metadata": {},
   "source": [
    "2. Descripción del Método utilizado\n",
    "==\n",
    "\n",
    "**Sistemas de Recomendación basado en Filtrado Colaborativo [K-Vecinos (knn)]** \n",
    "\n",
    "**Def:** Dentro de los sistemas de recomendación basados en filtrado colaborativo, existen dos clasificaciones que son los basados en memoria y los basados en modelos."
   ]
  },
  {
   "cell_type": "markdown",
   "metadata": {},
   "source": [
    "<ol>\n",
    "<li><p>**Métodos basado en memoria:** Emplean métrias de similaridad para determinar el parecido entre una pareja de usuarios. Para ello calculan los items que han sido votados por ambos usuarios y comparan dichos votos para calcular la similaridad.</p></li>\n",
    "\n",
    "<li><p>**Métodos basados en modelos:** utilizan la matriz de votaciones para crear un modelo a través del cual establecer el conjunto de usuarios similares al usuario activo. Algunos ejemplos de estos modelos son los clasiﬁcadores bayesianos, las redes neuronales, algoritmos genéticos, sistemas borrosos y la técnica de descomposición matricial basada en la técnica matemática del SVD.</p></li>\n",
    "</ol>\n",
    "\n",
    "**Nota:** de entrada nos centraremos en el método basado en memoria."
   ]
  },
  {
   "cell_type": "markdown",
   "metadata": {},
   "source": [
    "A continuación vamos a motrar las tres métricas de similaridad propuestas que básicamente lo que hacen es calcular \"**las distancias**\" que hay entre cada par de usuarios:\n",
    "\n",
    "* **MSD (Minimum Square Difference)**\n",
    "\n",
    "$$sim(x,y)  = 1-\\frac{1}{\\#B_{x,y}} \\sum_{i\\in I_u}{\\left(\\frac{r_{x,i}-r_{y,i}}{max-min}\\right)^{2}}$$\n",
    "\n",
    "Siendo $\\#B_{x,y}$ el número de productos que ambos usuarios han calificado (y que tiene que ser necesariamente mayor que 0); siendo $r_{x,i}$ y $r_{y,i}$ las calificaciones emitidas por los usuarios $x$ e $y$ respectivamente, y sinedo $max$ y $min$ las calificaciones máximas y mínimas que los usuarios han emitido.\n",
    "* **Correlación de Pearson**\n",
    "\n",
    "$$sim(x,y)  = \\frac{\\sum_{i\\in I_u}{\\left(r_{x,i}-\\overline{r}_x \\right)*\\left(r_{y,i}-\\overline{r}_y \\right)} }{\\sqrt{ \\sum_{i\\in B_{x,y}}{\\left(r_{x,i}-\\overline{r}_x \\right)^2 * \\sum_{i\\in B_{x,y}}}\n",
    "{\\left(r_{y,i}-\\overline{r}_y \\right)^2 } }}$$\n",
    "\n",
    "Siendo $\\overline{r}_x$ la media de calificación del usuario $x$.\n",
    "\n",
    "* **Coseno:** Mide la distancia que hay entre dos usuarios en función del ángulo que forman entre ellos.\n",
    "\n",
    "$$sim(x,y)  = \\frac{\\sum_{i\\in I_u}{r_{x,i}*r_{y,i}} }{\\sqrt{ \\sum_{i\\in B_{x,y}}{r_{x,i}^2}}*\\sqrt{ \\sum_{i\\in B_{x,y}}{r_{y,i}^2}} }$$"
   ]
  },
  {
   "cell_type": "markdown",
   "metadata": {
    "collapsed": true
   },
   "source": [
    "3. Descripción del conjunto de datos\n",
    "==\n",
    "\n",
    "El conjunto de datos pertenece a la tienda de bebé de Amazon que ofrece desde alimento, hasta mobiliario y juguetes para todo tipo de ocasión, los datos fueron extraidos de la página de **Stanford University**. \n",
    "\n",
    "Este conjunto de datos incluye revisiones (calificaciones, texto, votos de ayuda), metadatos del producto (descripciones, información de categoría, precio, marca e imágenes) y enlaces (también vistos / también compró gráficos). \n",
    "\n",
    "Link:\n",
    "(**Página de datos [Amazon][1]**)\n",
    "\n",
    "\n",
    "[1]: http://jmcauley.ucsd.edu/data/amazon/ \"Página de Amazon\"\n"
   ]
  },
  {
   "cell_type": "markdown",
   "metadata": {
    "collapsed": true
   },
   "source": [
    "4. Análisis del conjunto de datos\n",
    "==\n",
    "\n",
    "**Objetivo:** Recomendar calificaciones de los productos que un usuarios no ha calificado, por medio del método del **Vecino más cercano [K-Vecino (knn)]**.\n",
    "\n",
    "**Desarrollo:** Este sistema de recomendación se hará en el lenguaje de programación **R** ya que nos brinda herramientas que permiten un gran análisis, en miras a dar una buena recomendación al usuario."
   ]
  },
  {
   "cell_type": "code",
   "execution_count": 5,
   "metadata": {},
   "outputs": [],
   "source": [
    "# Cargamos los paquetes necesarios para el análisis\n",
    "options(warn=-1)\n",
    "library(recommenderlab)\n",
    "library(Matrix)\n",
    "library(lsa)\n",
    "library(class)\n",
    "library(ggplot2)"
   ]
  },
  {
   "cell_type": "code",
   "execution_count": 6,
   "metadata": {},
   "outputs": [
    {
     "data": {
      "text/html": [
       "<table>\n",
       "<thead><tr><th scope=col>usuario</th><th scope=col>item</th><th scope=col>calificacion</th></tr></thead>\n",
       "<tbody>\n",
       "\t<tr><td>06abj05   </td><td>B000056J76</td><td>3         </td></tr>\n",
       "\t<tr><td>06abj05   </td><td>B000056OV0</td><td>3         </td></tr>\n",
       "\t<tr><td>06abj05   </td><td>B00005BMDX</td><td>2         </td></tr>\n",
       "\t<tr><td>06abj05   </td><td>B00005JIVI</td><td>5         </td></tr>\n",
       "\t<tr><td>06abj05   </td><td>B00006966I</td><td>1         </td></tr>\n",
       "\t<tr><td>06abj05   </td><td>B00008ODBG</td><td>2         </td></tr>\n",
       "</tbody>\n",
       "</table>\n"
      ],
      "text/latex": [
       "\\begin{tabular}{r|lll}\n",
       " usuario & item & calificacion\\\\\n",
       "\\hline\n",
       "\t 06abj05    & B000056J76 & 3         \\\\\n",
       "\t 06abj05    & B000056OV0 & 3         \\\\\n",
       "\t 06abj05    & B00005BMDX & 2         \\\\\n",
       "\t 06abj05    & B00005JIVI & 5         \\\\\n",
       "\t 06abj05    & B00006966I & 1         \\\\\n",
       "\t 06abj05    & B00008ODBG & 2         \\\\\n",
       "\\end{tabular}\n"
      ],
      "text/markdown": [
       "\n",
       "usuario | item | calificacion | \n",
       "|---|---|---|---|---|---|\n",
       "| 06abj05    | B000056J76 | 3          | \n",
       "| 06abj05    | B000056OV0 | 3          | \n",
       "| 06abj05    | B00005BMDX | 2          | \n",
       "| 06abj05    | B00005JIVI | 5          | \n",
       "| 06abj05    | B00006966I | 1          | \n",
       "| 06abj05    | B00008ODBG | 2          | \n",
       "\n",
       "\n"
      ],
      "text/plain": [
       "  usuario item       calificacion\n",
       "1 06abj05 B000056J76 3           \n",
       "2 06abj05 B000056OV0 3           \n",
       "3 06abj05 B00005BMDX 2           \n",
       "4 06abj05 B00005JIVI 5           \n",
       "5 06abj05 B00006966I 1           \n",
       "6 06abj05 B00008ODBG 2           "
      ]
     },
     "metadata": {},
     "output_type": "display_data"
    },
    {
     "name": "stdout",
     "output_type": "stream",
     "text": [
      "'data.frame':\t811 obs. of  3 variables:\n",
      " $ usuario     : Factor w/ 23 levels \"06abj05\",\"06abj07\",..: 1 1 1 1 1 1 1 1 1 1 ...\n",
      " $ item        : Factor w/ 147 levels \"B000056J76\",\"B000056OV0\",..: 1 2 3 4 5 6 7 8 9 10 ...\n",
      " $ calificacion: int  3 3 2 5 1 2 5 1 2 5 ...\n"
     ]
    }
   ],
   "source": [
    "# lectura de datos \n",
    "datos <- read.table(file.choose(),header = TRUE, sep = \",\")\n",
    "head(datos)\n",
    "str(datos)"
   ]
  },
  {
   "cell_type": "code",
   "execution_count": 7,
   "metadata": {},
   "outputs": [
    {
     "data": {
      "text/plain": [
       "23 x 147 rating matrix of class 'realRatingMatrix' with 811 ratings."
      ]
     },
     "metadata": {},
     "output_type": "display_data"
    }
   ],
   "source": [
    "# Convertimos los datos al formato adecuado para hacer el análisis\n",
    "# sr: Sistema de Recomendación\n",
    "sr <- as(datos, \"realRatingMatrix\")\n",
    "sr"
   ]
  },
  {
   "cell_type": "code",
   "execution_count": 8,
   "metadata": {},
   "outputs": [
    {
     "data": {
      "text/plain": [
       "                   06abj05   06abj07 102Riley102riley 19WizardofOz  1angelea\n",
       "06abj07          0.8118267                                                  \n",
       "102Riley102riley 0.8531276 0.8120321                                        \n",
       "19WizardofOz     0.7968950 1.0000000        0.6706511                       \n",
       "1angelea         0.8360090 0.8954347        0.7981714    0.8625819          \n",
       "1GirlRunner      0.8508372 0.8788627        0.9047792    0.6024752 0.8630585"
      ]
     },
     "metadata": {},
     "output_type": "display_data"
    }
   ],
   "source": [
    "# Matriz de similaridad del usuario usando el método de coseno\n",
    "similarity_users <- similarity(sr[1:6, ], method = \"cosine\", which = \"users\")\n",
    "similarity_users\n",
    "\n",
    "# Viene del libro:\n",
    "#similarity_users <- similarity(MovieLense[1:4, ], method = \"cosine\", which = \"users\")"
   ]
  },
  {
   "cell_type": "code",
   "execution_count": 9,
   "metadata": {},
   "outputs": [
    {
     "data": {
      "text/html": [
       "<table>\n",
       "<thead><tr><th></th><th scope=col>06abj05</th><th scope=col>06abj07</th><th scope=col>102Riley102riley</th><th scope=col>19WizardofOz</th><th scope=col>1angelea</th><th scope=col>1GirlRunner</th></tr></thead>\n",
       "<tbody>\n",
       "\t<tr><th scope=row>06abj05</th><td>0.0000000</td><td>0.8118267</td><td>0.8531276</td><td>0.7968950</td><td>0.8360090</td><td>0.8508372</td></tr>\n",
       "\t<tr><th scope=row>06abj07</th><td>0.8118267</td><td>0.0000000</td><td>0.8120321</td><td>1.0000000</td><td>0.8954347</td><td>0.8788627</td></tr>\n",
       "\t<tr><th scope=row>102Riley102riley</th><td>0.8531276</td><td>0.8120321</td><td>0.0000000</td><td>0.6706511</td><td>0.7981714</td><td>0.9047792</td></tr>\n",
       "\t<tr><th scope=row>19WizardofOz</th><td>0.7968950</td><td>1.0000000</td><td>0.6706511</td><td>0.0000000</td><td>0.8625819</td><td>0.6024752</td></tr>\n",
       "\t<tr><th scope=row>1angelea</th><td>0.8360090</td><td>0.8954347</td><td>0.7981714</td><td>0.8625819</td><td>0.0000000</td><td>0.8630585</td></tr>\n",
       "\t<tr><th scope=row>1GirlRunner</th><td>0.8508372</td><td>0.8788627</td><td>0.9047792</td><td>0.6024752</td><td>0.8630585</td><td>0.0000000</td></tr>\n",
       "</tbody>\n",
       "</table>\n"
      ],
      "text/latex": [
       "\\begin{tabular}{r|llllll}\n",
       "  & 06abj05 & 06abj07 & 102Riley102riley & 19WizardofOz & 1angelea & 1GirlRunner\\\\\n",
       "\\hline\n",
       "\t06abj05 & 0.0000000 & 0.8118267 & 0.8531276 & 0.7968950 & 0.8360090 & 0.8508372\\\\\n",
       "\t06abj07 & 0.8118267 & 0.0000000 & 0.8120321 & 1.0000000 & 0.8954347 & 0.8788627\\\\\n",
       "\t102Riley102riley & 0.8531276 & 0.8120321 & 0.0000000 & 0.6706511 & 0.7981714 & 0.9047792\\\\\n",
       "\t19WizardofOz & 0.7968950 & 1.0000000 & 0.6706511 & 0.0000000 & 0.8625819 & 0.6024752\\\\\n",
       "\t1angelea & 0.8360090 & 0.8954347 & 0.7981714 & 0.8625819 & 0.0000000 & 0.8630585\\\\\n",
       "\t1GirlRunner & 0.8508372 & 0.8788627 & 0.9047792 & 0.6024752 & 0.8630585 & 0.0000000\\\\\n",
       "\\end{tabular}\n"
      ],
      "text/markdown": [
       "\n",
       "| <!--/--> | 06abj05 | 06abj07 | 102Riley102riley | 19WizardofOz | 1angelea | 1GirlRunner | \n",
       "|---|---|---|---|---|---|\n",
       "| 06abj05 | 0.0000000 | 0.8118267 | 0.8531276 | 0.7968950 | 0.8360090 | 0.8508372 | \n",
       "| 06abj07 | 0.8118267 | 0.0000000 | 0.8120321 | 1.0000000 | 0.8954347 | 0.8788627 | \n",
       "| 102Riley102riley | 0.8531276 | 0.8120321 | 0.0000000 | 0.6706511 | 0.7981714 | 0.9047792 | \n",
       "| 19WizardofOz | 0.7968950 | 1.0000000 | 0.6706511 | 0.0000000 | 0.8625819 | 0.6024752 | \n",
       "| 1angelea | 0.8360090 | 0.8954347 | 0.7981714 | 0.8625819 | 0.0000000 | 0.8630585 | \n",
       "| 1GirlRunner | 0.8508372 | 0.8788627 | 0.9047792 | 0.6024752 | 0.8630585 | 0.0000000 | \n",
       "\n",
       "\n"
      ],
      "text/plain": [
       "                 06abj05   06abj07   102Riley102riley 19WizardofOz 1angelea \n",
       "06abj05          0.0000000 0.8118267 0.8531276        0.7968950    0.8360090\n",
       "06abj07          0.8118267 0.0000000 0.8120321        1.0000000    0.8954347\n",
       "102Riley102riley 0.8531276 0.8120321 0.0000000        0.6706511    0.7981714\n",
       "19WizardofOz     0.7968950 1.0000000 0.6706511        0.0000000    0.8625819\n",
       "1angelea         0.8360090 0.8954347 0.7981714        0.8625819    0.0000000\n",
       "1GirlRunner      0.8508372 0.8788627 0.9047792        0.6024752    0.8630585\n",
       "                 1GirlRunner\n",
       "06abj05          0.8508372  \n",
       "06abj07          0.8788627  \n",
       "102Riley102riley 0.9047792  \n",
       "19WizardofOz     0.6024752  \n",
       "1angelea         0.8630585  \n",
       "1GirlRunner      0.0000000  "
      ]
     },
     "metadata": {},
     "output_type": "display_data"
    }
   ],
   "source": [
    "# Sirve para visualizar la matriz de similaridad de los usuarios completa \n",
    " as.matrix(similarity_users)\n",
    "\n",
    "# Viene del libro\n",
    "# as.matrix(similarity_users)"
   ]
  },
  {
   "cell_type": "code",
   "execution_count": 10,
   "metadata": {},
   "outputs": [
    {
     "data": {
      "image/png": "[encoded data removed]",
      "text/plain": [
       "Plot with title \"Similaridad de los Usuarios\""
      ]
     },
     "metadata": {},
     "output_type": "display_data"
    }
   ],
   "source": [
    "# Sirve par sacar un mapa de calor de la matriz de similaridad de los usuarios\n",
    "image(as.matrix(similarity_users), main = \"Similaridad de los Usuarios\", xlab= \"Usuario\", ylab=\"Usuario\")\n",
    "\n",
    "# Conclusión: Este gráfico se analiza de la siguiente forma: \n",
    "# Entre más rojo este un cuadro significa que hay más similaridad entre los usuarios\n",
    "\n",
    "# Viene del libro\n",
    "# image(as.matrix(similarity_users), main = \"User similarity\")"
   ]
  },
  {
   "cell_type": "code",
   "execution_count": 11,
   "metadata": {},
   "outputs": [
    {
     "data": {
      "text/plain": [
       "           B000056J76 B000056OV0 B00005BMDX B00005JIVI B00006966I\n",
       "B000056OV0  0.7859326                                            \n",
       "B00005BMDX  0.9020135  0.9169631                                 \n",
       "B00005JIVI  0.8379833  0.8589059  0.8561707                      \n",
       "B00006966I  0.7669917  0.8295151  0.9100315  0.8093026           \n",
       "B00008ODBG  0.7884862  0.7590721  0.8847980  0.7970811  0.8494706"
      ]
     },
     "metadata": {},
     "output_type": "display_data"
    }
   ],
   "source": [
    "# Sirve para sacar la matriz de similaridad de los productos\n",
    "similarity_items <- similarity(sr[, 1:6], method = \"cosine\", which = \"items\")\n",
    "similarity_items\n",
    "\n",
    "# Viene del libro:\n",
    "# similarity_items <- similarity(MovieLense[, 1:4], method = \"cosine\", which = \"items\")"
   ]
  },
  {
   "cell_type": "code",
   "execution_count": 12,
   "metadata": {},
   "outputs": [
    {
     "data": {
      "text/html": [
       "<table>\n",
       "<thead><tr><th></th><th scope=col>B000056J76</th><th scope=col>B000056OV0</th><th scope=col>B00005BMDX</th><th scope=col>B00005JIVI</th><th scope=col>B00006966I</th><th scope=col>B00008ODBG</th></tr></thead>\n",
       "<tbody>\n",
       "\t<tr><th scope=row>B000056J76</th><td>0.0000000</td><td>0.7859326</td><td>0.9020135</td><td>0.8379833</td><td>0.7669917</td><td>0.7884862</td></tr>\n",
       "\t<tr><th scope=row>B000056OV0</th><td>0.7859326</td><td>0.0000000</td><td>0.9169631</td><td>0.8589059</td><td>0.8295151</td><td>0.7590721</td></tr>\n",
       "\t<tr><th scope=row>B00005BMDX</th><td>0.9020135</td><td>0.9169631</td><td>0.0000000</td><td>0.8561707</td><td>0.9100315</td><td>0.8847980</td></tr>\n",
       "\t<tr><th scope=row>B00005JIVI</th><td>0.8379833</td><td>0.8589059</td><td>0.8561707</td><td>0.0000000</td><td>0.8093026</td><td>0.7970811</td></tr>\n",
       "\t<tr><th scope=row>B00006966I</th><td>0.7669917</td><td>0.8295151</td><td>0.9100315</td><td>0.8093026</td><td>0.0000000</td><td>0.8494706</td></tr>\n",
       "\t<tr><th scope=row>B00008ODBG</th><td>0.7884862</td><td>0.7590721</td><td>0.8847980</td><td>0.7970811</td><td>0.8494706</td><td>0.0000000</td></tr>\n",
       "</tbody>\n",
       "</table>\n"
      ],
      "text/latex": [
       "\\begin{tabular}{r|llllll}\n",
       "  & B000056J76 & B000056OV0 & B00005BMDX & B00005JIVI & B00006966I & B00008ODBG\\\\\n",
       "\\hline\n",
       "\tB000056J76 & 0.0000000 & 0.7859326 & 0.9020135 & 0.8379833 & 0.7669917 & 0.7884862\\\\\n",
       "\tB000056OV0 & 0.7859326 & 0.0000000 & 0.9169631 & 0.8589059 & 0.8295151 & 0.7590721\\\\\n",
       "\tB00005BMDX & 0.9020135 & 0.9169631 & 0.0000000 & 0.8561707 & 0.9100315 & 0.8847980\\\\\n",
       "\tB00005JIVI & 0.8379833 & 0.8589059 & 0.8561707 & 0.0000000 & 0.8093026 & 0.7970811\\\\\n",
       "\tB00006966I & 0.7669917 & 0.8295151 & 0.9100315 & 0.8093026 & 0.0000000 & 0.8494706\\\\\n",
       "\tB00008ODBG & 0.7884862 & 0.7590721 & 0.8847980 & 0.7970811 & 0.8494706 & 0.0000000\\\\\n",
       "\\end{tabular}\n"
      ],
      "text/markdown": [
       "\n",
       "| <!--/--> | B000056J76 | B000056OV0 | B00005BMDX | B00005JIVI | B00006966I | B00008ODBG | \n",
       "|---|---|---|---|---|---|\n",
       "| B000056J76 | 0.0000000 | 0.7859326 | 0.9020135 | 0.8379833 | 0.7669917 | 0.7884862 | \n",
       "| B000056OV0 | 0.7859326 | 0.0000000 | 0.9169631 | 0.8589059 | 0.8295151 | 0.7590721 | \n",
       "| B00005BMDX | 0.9020135 | 0.9169631 | 0.0000000 | 0.8561707 | 0.9100315 | 0.8847980 | \n",
       "| B00005JIVI | 0.8379833 | 0.8589059 | 0.8561707 | 0.0000000 | 0.8093026 | 0.7970811 | \n",
       "| B00006966I | 0.7669917 | 0.8295151 | 0.9100315 | 0.8093026 | 0.0000000 | 0.8494706 | \n",
       "| B00008ODBG | 0.7884862 | 0.7590721 | 0.8847980 | 0.7970811 | 0.8494706 | 0.0000000 | \n",
       "\n",
       "\n"
      ],
      "text/plain": [
       "           B000056J76 B000056OV0 B00005BMDX B00005JIVI B00006966I B00008ODBG\n",
       "B000056J76 0.0000000  0.7859326  0.9020135  0.8379833  0.7669917  0.7884862 \n",
       "B000056OV0 0.7859326  0.0000000  0.9169631  0.8589059  0.8295151  0.7590721 \n",
       "B00005BMDX 0.9020135  0.9169631  0.0000000  0.8561707  0.9100315  0.8847980 \n",
       "B00005JIVI 0.8379833  0.8589059  0.8561707  0.0000000  0.8093026  0.7970811 \n",
       "B00006966I 0.7669917  0.8295151  0.9100315  0.8093026  0.0000000  0.8494706 \n",
       "B00008ODBG 0.7884862  0.7590721  0.8847980  0.7970811  0.8494706  0.0000000 "
      ]
     },
     "metadata": {},
     "output_type": "display_data"
    }
   ],
   "source": [
    "# Sirve para visualizar la matriz de similaridad de los productos completa \n",
    "as.matrix(similarity_items)\n",
    "\n",
    "# Viene del libro\n",
    "# as.matrix(similarity_items)"
   ]
  },
  {
   "cell_type": "code",
   "execution_count": 13,
   "metadata": {},
   "outputs": [
    {
     "data": {
      "image/png": "[encoded data removed]",
      "text/plain": [
       "Plot with title \"Similaridad de los Productos\""
      ]
     },
     "metadata": {},
     "output_type": "display_data"
    }
   ],
   "source": [
    "# Sirve par sacar un mapa de calor de la matriz de similaridad de los productos\n",
    "image(as.matrix(similarity_items), main = \"Similaridad de los Productos\", xlab=\"Productos\", ylab=\"Productos\")\n",
    "\n",
    "# Conclusión: Este gráfico se analiza de la siguiente forma: \n",
    "# Entre más rojo este un cuadro significa que hay más similaridad entre los productos\n",
    "\n",
    "# Viene del libro\n",
    "# image(as.matrix(similarity_items), main = \"Item similarity\")"
   ]
  },
  {
   "cell_type": "code",
   "execution_count": 14,
   "metadata": {},
   "outputs": [
    {
     "data": {
      "text/html": [
       "<ol class=list-inline>\n",
       "\t<li>'ALS_realRatingMatrix'</li>\n",
       "\t<li>'ALS_implicit_realRatingMatrix'</li>\n",
       "\t<li>'IBCF_realRatingMatrix'</li>\n",
       "\t<li>'POPULAR_realRatingMatrix'</li>\n",
       "\t<li>'RANDOM_realRatingMatrix'</li>\n",
       "\t<li>'RERECOMMEND_realRatingMatrix'</li>\n",
       "\t<li>'SVD_realRatingMatrix'</li>\n",
       "\t<li>'SVDF_realRatingMatrix'</li>\n",
       "\t<li>'UBCF_realRatingMatrix'</li>\n",
       "</ol>\n"
      ],
      "text/latex": [
       "\\begin{enumerate*}\n",
       "\\item 'ALS\\_realRatingMatrix'\n",
       "\\item 'ALS\\_implicit\\_realRatingMatrix'\n",
       "\\item 'IBCF\\_realRatingMatrix'\n",
       "\\item 'POPULAR\\_realRatingMatrix'\n",
       "\\item 'RANDOM\\_realRatingMatrix'\n",
       "\\item 'RERECOMMEND\\_realRatingMatrix'\n",
       "\\item 'SVD\\_realRatingMatrix'\n",
       "\\item 'SVDF\\_realRatingMatrix'\n",
       "\\item 'UBCF\\_realRatingMatrix'\n",
       "\\end{enumerate*}\n"
      ],
      "text/markdown": [
       "1. 'ALS_realRatingMatrix'\n",
       "2. 'ALS_implicit_realRatingMatrix'\n",
       "3. 'IBCF_realRatingMatrix'\n",
       "4. 'POPULAR_realRatingMatrix'\n",
       "5. 'RANDOM_realRatingMatrix'\n",
       "6. 'RERECOMMEND_realRatingMatrix'\n",
       "7. 'SVD_realRatingMatrix'\n",
       "8. 'SVDF_realRatingMatrix'\n",
       "9. 'UBCF_realRatingMatrix'\n",
       "\n",
       "\n"
      ],
      "text/plain": [
       "[1] \"ALS_realRatingMatrix\"          \"ALS_implicit_realRatingMatrix\"\n",
       "[3] \"IBCF_realRatingMatrix\"         \"POPULAR_realRatingMatrix\"     \n",
       "[5] \"RANDOM_realRatingMatrix\"       \"RERECOMMEND_realRatingMatrix\" \n",
       "[7] \"SVD_realRatingMatrix\"          \"SVDF_realRatingMatrix\"        \n",
       "[9] \"UBCF_realRatingMatrix\"        "
      ]
     },
     "metadata": {},
     "output_type": "display_data"
    }
   ],
   "source": [
    "# El paquete tiene varios algoritmos de recomendación que son los siguientes:\n",
    "modelos_recomendacion <- recommenderRegistry$get_entries(dataType =\"realRatingMatrix\")\n",
    "names(modelos_recomendacion)"
   ]
  },
  {
   "cell_type": "code",
   "execution_count": 15,
   "metadata": {},
   "outputs": [
    {
     "data": {
      "text/html": [
       "<dl>\n",
       "\t<dt>$ALS_realRatingMatrix</dt>\n",
       "\t\t<dd>'Recommender for explicit ratings based on latent factors, calculated by alternating least squares algorithm.'</dd>\n",
       "\t<dt>$ALS_implicit_realRatingMatrix</dt>\n",
       "\t\t<dd>'Recommender for implicit data based on latent factors, calculated by alternating least squares algorithm.'</dd>\n",
       "\t<dt>$IBCF_realRatingMatrix</dt>\n",
       "\t\t<dd>'Recommender based on item-based collaborative filtering.'</dd>\n",
       "\t<dt>$POPULAR_realRatingMatrix</dt>\n",
       "\t\t<dd>'Recommender based on item popularity.'</dd>\n",
       "\t<dt>$RANDOM_realRatingMatrix</dt>\n",
       "\t\t<dd>'Produce random recommendations (real ratings).'</dd>\n",
       "\t<dt>$RERECOMMEND_realRatingMatrix</dt>\n",
       "\t\t<dd>'Re-recommends highly rated items (real ratings).'</dd>\n",
       "\t<dt>$SVD_realRatingMatrix</dt>\n",
       "\t\t<dd>'Recommender based on SVD approximation with column-mean imputation.'</dd>\n",
       "\t<dt>$SVDF_realRatingMatrix</dt>\n",
       "\t\t<dd>'Recommender based on Funk SVD with gradient descend.'</dd>\n",
       "\t<dt>$UBCF_realRatingMatrix</dt>\n",
       "\t\t<dd>'Recommender based on user-based collaborative filtering.'</dd>\n",
       "</dl>\n"
      ],
      "text/latex": [
       "\\begin{description}\n",
       "\\item[\\$ALS\\_realRatingMatrix] 'Recommender for explicit ratings based on latent factors, calculated by alternating least squares algorithm.'\n",
       "\\item[\\$ALS\\_implicit\\_realRatingMatrix] 'Recommender for implicit data based on latent factors, calculated by alternating least squares algorithm.'\n",
       "\\item[\\$IBCF\\_realRatingMatrix] 'Recommender based on item-based collaborative filtering.'\n",
       "\\item[\\$POPULAR\\_realRatingMatrix] 'Recommender based on item popularity.'\n",
       "\\item[\\$RANDOM\\_realRatingMatrix] 'Produce random recommendations (real ratings).'\n",
       "\\item[\\$RERECOMMEND\\_realRatingMatrix] 'Re-recommends highly rated items (real ratings).'\n",
       "\\item[\\$SVD\\_realRatingMatrix] 'Recommender based on SVD approximation with column-mean imputation.'\n",
       "\\item[\\$SVDF\\_realRatingMatrix] 'Recommender based on Funk SVD with gradient descend.'\n",
       "\\item[\\$UBCF\\_realRatingMatrix] 'Recommender based on user-based collaborative filtering.'\n",
       "\\end{description}\n"
      ],
      "text/markdown": [
       "$ALS_realRatingMatrix\n",
       ":   'Recommender for explicit ratings based on latent factors, calculated by alternating least squares algorithm.'\n",
       "$ALS_implicit_realRatingMatrix\n",
       ":   'Recommender for implicit data based on latent factors, calculated by alternating least squares algorithm.'\n",
       "$IBCF_realRatingMatrix\n",
       ":   'Recommender based on item-based collaborative filtering.'\n",
       "$POPULAR_realRatingMatrix\n",
       ":   'Recommender based on item popularity.'\n",
       "$RANDOM_realRatingMatrix\n",
       ":   'Produce random recommendations (real ratings).'\n",
       "$RERECOMMEND_realRatingMatrix\n",
       ":   'Re-recommends highly rated items (real ratings).'\n",
       "$SVD_realRatingMatrix\n",
       ":   'Recommender based on SVD approximation with column-mean imputation.'\n",
       "$SVDF_realRatingMatrix\n",
       ":   'Recommender based on Funk SVD with gradient descend.'\n",
       "$UBCF_realRatingMatrix\n",
       ":   'Recommender based on user-based collaborative filtering.'\n",
       "\n",
       "\n"
      ],
      "text/plain": [
       "$ALS_realRatingMatrix\n",
       "[1] \"Recommender for explicit ratings based on latent factors, calculated by alternating least squares algorithm.\"\n",
       "\n",
       "$ALS_implicit_realRatingMatrix\n",
       "[1] \"Recommender for implicit data based on latent factors, calculated by alternating least squares algorithm.\"\n",
       "\n",
       "$IBCF_realRatingMatrix\n",
       "[1] \"Recommender based on item-based collaborative filtering.\"\n",
       "\n",
       "$POPULAR_realRatingMatrix\n",
       "[1] \"Recommender based on item popularity.\"\n",
       "\n",
       "$RANDOM_realRatingMatrix\n",
       "[1] \"Produce random recommendations (real ratings).\"\n",
       "\n",
       "$RERECOMMEND_realRatingMatrix\n",
       "[1] \"Re-recommends highly rated items (real ratings).\"\n",
       "\n",
       "$SVD_realRatingMatrix\n",
       "[1] \"Recommender based on SVD approximation with column-mean imputation.\"\n",
       "\n",
       "$SVDF_realRatingMatrix\n",
       "[1] \"Recommender based on Funk SVD with gradient descend.\"\n",
       "\n",
       "$UBCF_realRatingMatrix\n",
       "[1] \"Recommender based on user-based collaborative filtering.\"\n"
      ]
     },
     "metadata": {},
     "output_type": "display_data"
    }
   ],
   "source": [
    "# Sirve para ver la descripción de cada algoritmo de recomendación\n",
    "lapply(modelos_recomendacion, \"[[\", \"description\")"
   ]
  },
  {
   "cell_type": "code",
   "execution_count": 16,
   "metadata": {},
   "outputs": [
    {
     "data": {
      "text/html": [
       "<dl>\n",
       "\t<dt>$k</dt>\n",
       "\t\t<dd>30</dd>\n",
       "\t<dt>$method</dt>\n",
       "\t\t<dd>'Cosine'</dd>\n",
       "\t<dt>$normalize</dt>\n",
       "\t\t<dd>'center'</dd>\n",
       "\t<dt>$normalize_sim_matrix</dt>\n",
       "\t\t<dd>FALSE</dd>\n",
       "\t<dt>$alpha</dt>\n",
       "\t\t<dd>0.5</dd>\n",
       "\t<dt>$na_as_zero</dt>\n",
       "\t\t<dd>FALSE</dd>\n",
       "</dl>\n"
      ],
      "text/latex": [
       "\\begin{description}\n",
       "\\item[\\$k] 30\n",
       "\\item[\\$method] 'Cosine'\n",
       "\\item[\\$normalize] 'center'\n",
       "\\item[\\$normalize\\_sim\\_matrix] FALSE\n",
       "\\item[\\$alpha] 0.5\n",
       "\\item[\\$na\\_as\\_zero] FALSE\n",
       "\\end{description}\n"
      ],
      "text/markdown": [
       "$k\n",
       ":   30\n",
       "$method\n",
       ":   'Cosine'\n",
       "$normalize\n",
       ":   'center'\n",
       "$normalize_sim_matrix\n",
       ":   FALSE\n",
       "$alpha\n",
       ":   0.5\n",
       "$na_as_zero\n",
       ":   FALSE\n",
       "\n",
       "\n"
      ],
      "text/plain": [
       "$k\n",
       "[1] 30\n",
       "\n",
       "$method\n",
       "[1] \"Cosine\"\n",
       "\n",
       "$normalize\n",
       "[1] \"center\"\n",
       "\n",
       "$normalize_sim_matrix\n",
       "[1] FALSE\n",
       "\n",
       "$alpha\n",
       "[1] 0.5\n",
       "\n",
       "$na_as_zero\n",
       "[1] FALSE\n"
      ]
     },
     "metadata": {},
     "output_type": "display_data"
    }
   ],
   "source": [
    "# Sirve para ver los parámetros de cada algoritmo de recomendación\n",
    "modelos_recomendacion$IBCF_realRatingMatrix$parameters"
   ]
  },
  {
   "cell_type": "code",
   "execution_count": 17,
   "metadata": {},
   "outputs": [
    {
     "data": {
      "text/html": [
       "<ol class=list-inline>\n",
       "\t<li>23</li>\n",
       "\t<li>147</li>\n",
       "</ol>\n"
      ],
      "text/latex": [
       "\\begin{enumerate*}\n",
       "\\item 23\n",
       "\\item 147\n",
       "\\end{enumerate*}\n"
      ],
      "text/markdown": [
       "1. 23\n",
       "2. 147\n",
       "\n",
       "\n"
      ],
      "text/plain": [
       "[1]  23 147"
      ]
     },
     "metadata": {},
     "output_type": "display_data"
    }
   ],
   "source": [
    "# Sirve para ver las dimensiones de los datos esto quiere decir cantidad de Usiarios, cantidad de productos\n",
    "dim(sr)"
   ]
  },
  {
   "cell_type": "code",
   "execution_count": 18,
   "metadata": {},
   "outputs": [
    {
     "data": {
      "text/html": [
       "<ol class=list-inline>\n",
       "\t<li>3</li>\n",
       "\t<li>0</li>\n",
       "\t<li>5</li>\n",
       "\t<li>2</li>\n",
       "\t<li>1</li>\n",
       "\t<li>4</li>\n",
       "</ol>\n"
      ],
      "text/latex": [
       "\\begin{enumerate*}\n",
       "\\item 3\n",
       "\\item 0\n",
       "\\item 5\n",
       "\\item 2\n",
       "\\item 1\n",
       "\\item 4\n",
       "\\end{enumerate*}\n"
      ],
      "text/markdown": [
       "1. 3\n",
       "2. 0\n",
       "3. 5\n",
       "4. 2\n",
       "5. 1\n",
       "6. 4\n",
       "\n",
       "\n"
      ],
      "text/plain": [
       "[1] 3 0 5 2 1 4"
      ]
     },
     "metadata": {},
     "output_type": "display_data"
    }
   ],
   "source": [
    "# Sirve para crear un vector de calificaciones\n",
    " vector_ratings <- as.vector(sr@data)\n",
    " unique(vector_ratings)\n",
    "\n",
    "# Viene del libro\n",
    "# vector_ratings <- as.vector(MovieLense@data)\n",
    "# unique(vector_ratings)"
   ]
  },
  {
   "cell_type": "code",
   "execution_count": 19,
   "metadata": {},
   "outputs": [
    {
     "data": {
      "text/plain": [
       "vector_ratings\n",
       "   0    1    2    3    4    5 \n",
       "2570  149  174  167  163  158 "
      ]
     },
     "metadata": {},
     "output_type": "display_data"
    }
   ],
   "source": [
    "# Sirve para crear una tabla de frecuencias con las calificaciones de los productos\n",
    " table_ratings <- table(vector_ratings)\n",
    " table_ratings\n",
    "\n",
    "# Viene del libro\n",
    "# table_ratings <- table(vector_ratings)\n",
    "# table_ratings"
   ]
  },
  {
   "cell_type": "code",
   "execution_count": 20,
   "metadata": {},
   "outputs": [],
   "source": [
    "# Sirve para sacar las frecuencias de las calificaciones de los productos\n",
    "vector_ratings <- vector_ratings[vector_ratings != 0]\n",
    "vector_ratings <- factor(vector_ratings)\n",
    "\n",
    "\n",
    "# Viene del libro\n",
    "# vector_ratings <- vector_ratings[vector_ratings != 0]\n",
    "# vector_ratings <- factor(vector_ratings)"
   ]
  },
  {
   "cell_type": "code",
   "execution_count": 21,
   "metadata": {},
   "outputs": [
    {
     "data": {},
     "metadata": {},
     "output_type": "display_data"
    },
    {
     "data": {
      "image/png": "[encoded data removed]",
      "text/plain": [
       "plot without title"
      ]
     },
     "metadata": {},
     "output_type": "display_data"
    }
   ],
   "source": [
    "# Sirve para hallar la distribución de frecuencias de las calificaciones de los productos\n",
    " qplot(vector_ratings) + ggtitle(\"Distribución de Calificaciones\") \n",
    "\n",
    "# Viene del libro\n",
    "# qplot(vector_ratings) + ggtitle(\"Distribution of the ratings\")"
   ]
  },
  {
   "cell_type": "code",
   "execution_count": 22,
   "metadata": {},
   "outputs": [
    {
     "data": {
      "text/html": [
       "<table>\n",
       "<thead><tr><th></th><th scope=col>producto</th><th scope=col>vistas</th></tr></thead>\n",
       "<tbody>\n",
       "\t<tr><th scope=row>B000CPGYTY</th><td>B000CPGYTY</td><td>20        </td></tr>\n",
       "\t<tr><th scope=row>B000IDSLOG</th><td>B000IDSLOG</td><td>20        </td></tr>\n",
       "\t<tr><th scope=row>B000CSBP9K</th><td>B000CSBP9K</td><td>19        </td></tr>\n",
       "\t<tr><th scope=row>B000EDJ1A8</th><td>B000EDJ1A8</td><td>19        </td></tr>\n",
       "\t<tr><th scope=row>B000GB0NZK</th><td>B000GB0NZK</td><td>19        </td></tr>\n",
       "\t<tr><th scope=row>B000GJIE4E</th><td>B000GJIE4E</td><td>19        </td></tr>\n",
       "\t<tr><th scope=row>B000GOUUR8</th><td>B000GOUUR8</td><td>19        </td></tr>\n",
       "\t<tr><th scope=row>B000I2MRHO</th><td>B000I2MRHO</td><td>19        </td></tr>\n",
       "\t<tr><th scope=row>B000I2MRLK</th><td>B000I2MRLK</td><td>19        </td></tr>\n",
       "\t<tr><th scope=row>B000JM4R8U</th><td>B000JM4R8U</td><td>19        </td></tr>\n",
       "\t<tr><th scope=row>B000JPQFH8</th><td>B000JPQFH8</td><td>19        </td></tr>\n",
       "\t<tr><th scope=row>B000K50780</th><td>B000K50780</td><td>19        </td></tr>\n",
       "\t<tr><th scope=row>B000K53U7K</th><td>B000K53U7K</td><td>19        </td></tr>\n",
       "\t<tr><th scope=row>B000KW3ZE6</th><td>B000KW3ZE6</td><td>19        </td></tr>\n",
       "\t<tr><th scope=row>B000LXQVA4</th><td>B000LXQVA4</td><td>19        </td></tr>\n",
       "\t<tr><th scope=row>B000BVKPNA</th><td>B000BVKPNA</td><td>18        </td></tr>\n",
       "\t<tr><th scope=row>B000CCEWBY</th><td>B000CCEWBY</td><td>18        </td></tr>\n",
       "\t<tr><th scope=row>B000COY136</th><td>B000COY136</td><td>18        </td></tr>\n",
       "\t<tr><th scope=row>B000KJZOWU</th><td>B000KJZOWU</td><td>18        </td></tr>\n",
       "\t<tr><th scope=row>B000KPZLSG</th><td>B000KPZLSG</td><td>18        </td></tr>\n",
       "\t<tr><th scope=row>B000M432IG</th><td>B000M432IG</td><td>18        </td></tr>\n",
       "\t<tr><th scope=row>B000BNQC58</th><td>B000BNQC58</td><td>16        </td></tr>\n",
       "\t<tr><th scope=row>B000A88JZA</th><td>B000A88JZA</td><td>15        </td></tr>\n",
       "\t<tr><th scope=row>B000M49MO4</th><td>B000M49MO4</td><td>15        </td></tr>\n",
       "\t<tr><th scope=row>B000M5HZ8I</th><td>B000M5HZ8I</td><td>15        </td></tr>\n",
       "\t<tr><th scope=row>B0009RG8WS</th><td>B0009RG8WS</td><td>14        </td></tr>\n",
       "\t<tr><th scope=row>B000N9H4SE</th><td>B000N9H4SE</td><td>14        </td></tr>\n",
       "\t<tr><th scope=row>B00081J3N6</th><td>B00081J3N6</td><td>13        </td></tr>\n",
       "\t<tr><th scope=row>B000NSBBIY</th><td>B000NSBBIY</td><td>13        </td></tr>\n",
       "\t<tr><th scope=row>B000R9YXWA</th><td>B000R9YXWA</td><td>13        </td></tr>\n",
       "\t<tr><th scope=row>...</th><td>...</td><td>...</td></tr>\n",
       "\t<tr><th scope=row>B0056S8AGW</th><td>B0056S8AGW</td><td>1         </td></tr>\n",
       "\t<tr><th scope=row>B0057ONXG2</th><td>B0057ONXG2</td><td>1         </td></tr>\n",
       "\t<tr><th scope=row>B005EDBWOQ</th><td>B005EDBWOQ</td><td>1         </td></tr>\n",
       "\t<tr><th scope=row>B005KMK670</th><td>B005KMK670</td><td>1         </td></tr>\n",
       "\t<tr><th scope=row>B005L4NIRC</th><td>B005L4NIRC</td><td>1         </td></tr>\n",
       "\t<tr><th scope=row>B005MM7FA4</th><td>B005MM7FA4</td><td>1         </td></tr>\n",
       "\t<tr><th scope=row>B005MQR7GW</th><td>B005MQR7GW</td><td>1         </td></tr>\n",
       "\t<tr><th scope=row>B005OI8O88</th><td>B005OI8O88</td><td>1         </td></tr>\n",
       "\t<tr><th scope=row>B005SPCXKC</th><td>B005SPCXKC</td><td>1         </td></tr>\n",
       "\t<tr><th scope=row>B006I18WQE</th><td>B006I18WQE</td><td>1         </td></tr>\n",
       "\t<tr><th scope=row>B006I1ZMJ4</th><td>B006I1ZMJ4</td><td>1         </td></tr>\n",
       "\t<tr><th scope=row>B006P05S42</th><td>B006P05S42</td><td>1         </td></tr>\n",
       "\t<tr><th scope=row>B006UY170M</th><td>B006UY170M</td><td>1         </td></tr>\n",
       "\t<tr><th scope=row>B0072FREFA</th><td>B0072FREFA</td><td>1         </td></tr>\n",
       "\t<tr><th scope=row>B0076NYZBE</th><td>B0076NYZBE</td><td>1         </td></tr>\n",
       "\t<tr><th scope=row>B00792RG1S</th><td>B00792RG1S</td><td>1         </td></tr>\n",
       "\t<tr><th scope=row>B007HZBOFG</th><td>B007HZBOFG</td><td>1         </td></tr>\n",
       "\t<tr><th scope=row>B007JVI94M</th><td>B007JVI94M</td><td>1         </td></tr>\n",
       "\t<tr><th scope=row>B00846FJ0S</th><td>B00846FJ0S</td><td>1         </td></tr>\n",
       "\t<tr><th scope=row>B00856QSL6</th><td>B00856QSL6</td><td>1         </td></tr>\n",
       "\t<tr><th scope=row>B008BU4NVI</th><td>B008BU4NVI</td><td>1         </td></tr>\n",
       "\t<tr><th scope=row>B008WNV4J8</th><td>B008WNV4J8</td><td>1         </td></tr>\n",
       "\t<tr><th scope=row>B008XLU8OQ</th><td>B008XLU8OQ</td><td>1         </td></tr>\n",
       "\t<tr><th scope=row>B0098PUNGO</th><td>B0098PUNGO</td><td>1         </td></tr>\n",
       "\t<tr><th scope=row>B00A7W0VLY</th><td>B00A7W0VLY</td><td>1         </td></tr>\n",
       "\t<tr><th scope=row>B00B507D7C</th><td>B00B507D7C</td><td>1         </td></tr>\n",
       "\t<tr><th scope=row>B00B99DSQ4</th><td>B00B99DSQ4</td><td>1         </td></tr>\n",
       "\t<tr><th scope=row>B00BJCO94G</th><td>B00BJCO94G</td><td>1         </td></tr>\n",
       "\t<tr><th scope=row>B00BQYVQWU</th><td>B00BQYVQWU</td><td>1         </td></tr>\n",
       "\t<tr><th scope=row>B00F7PXALO</th><td>B00F7PXALO</td><td>1         </td></tr>\n",
       "</tbody>\n",
       "</table>\n"
      ],
      "text/latex": [
       "\\begin{tabular}{r|ll}\n",
       "  & producto & vistas\\\\\n",
       "\\hline\n",
       "\tB000CPGYTY & B000CPGYTY & 20        \\\\\n",
       "\tB000IDSLOG & B000IDSLOG & 20        \\\\\n",
       "\tB000CSBP9K & B000CSBP9K & 19        \\\\\n",
       "\tB000EDJ1A8 & B000EDJ1A8 & 19        \\\\\n",
       "\tB000GB0NZK & B000GB0NZK & 19        \\\\\n",
       "\tB000GJIE4E & B000GJIE4E & 19        \\\\\n",
       "\tB000GOUUR8 & B000GOUUR8 & 19        \\\\\n",
       "\tB000I2MRHO & B000I2MRHO & 19        \\\\\n",
       "\tB000I2MRLK & B000I2MRLK & 19        \\\\\n",
       "\tB000JM4R8U & B000JM4R8U & 19        \\\\\n",
       "\tB000JPQFH8 & B000JPQFH8 & 19        \\\\\n",
       "\tB000K50780 & B000K50780 & 19        \\\\\n",
       "\tB000K53U7K & B000K53U7K & 19        \\\\\n",
       "\tB000KW3ZE6 & B000KW3ZE6 & 19        \\\\\n",
       "\tB000LXQVA4 & B000LXQVA4 & 19        \\\\\n",
       "\tB000BVKPNA & B000BVKPNA & 18        \\\\\n",
       "\tB000CCEWBY & B000CCEWBY & 18        \\\\\n",
       "\tB000COY136 & B000COY136 & 18        \\\\\n",
       "\tB000KJZOWU & B000KJZOWU & 18        \\\\\n",
       "\tB000KPZLSG & B000KPZLSG & 18        \\\\\n",
       "\tB000M432IG & B000M432IG & 18        \\\\\n",
       "\tB000BNQC58 & B000BNQC58 & 16        \\\\\n",
       "\tB000A88JZA & B000A88JZA & 15        \\\\\n",
       "\tB000M49MO4 & B000M49MO4 & 15        \\\\\n",
       "\tB000M5HZ8I & B000M5HZ8I & 15        \\\\\n",
       "\tB0009RG8WS & B0009RG8WS & 14        \\\\\n",
       "\tB000N9H4SE & B000N9H4SE & 14        \\\\\n",
       "\tB00081J3N6 & B00081J3N6 & 13        \\\\\n",
       "\tB000NSBBIY & B000NSBBIY & 13        \\\\\n",
       "\tB000R9YXWA & B000R9YXWA & 13        \\\\\n",
       "\t... & ... & ...\\\\\n",
       "\tB0056S8AGW & B0056S8AGW & 1         \\\\\n",
       "\tB0057ONXG2 & B0057ONXG2 & 1         \\\\\n",
       "\tB005EDBWOQ & B005EDBWOQ & 1         \\\\\n",
       "\tB005KMK670 & B005KMK670 & 1         \\\\\n",
       "\tB005L4NIRC & B005L4NIRC & 1         \\\\\n",
       "\tB005MM7FA4 & B005MM7FA4 & 1         \\\\\n",
       "\tB005MQR7GW & B005MQR7GW & 1         \\\\\n",
       "\tB005OI8O88 & B005OI8O88 & 1         \\\\\n",
       "\tB005SPCXKC & B005SPCXKC & 1         \\\\\n",
       "\tB006I18WQE & B006I18WQE & 1         \\\\\n",
       "\tB006I1ZMJ4 & B006I1ZMJ4 & 1         \\\\\n",
       "\tB006P05S42 & B006P05S42 & 1         \\\\\n",
       "\tB006UY170M & B006UY170M & 1         \\\\\n",
       "\tB0072FREFA & B0072FREFA & 1         \\\\\n",
       "\tB0076NYZBE & B0076NYZBE & 1         \\\\\n",
       "\tB00792RG1S & B00792RG1S & 1         \\\\\n",
       "\tB007HZBOFG & B007HZBOFG & 1         \\\\\n",
       "\tB007JVI94M & B007JVI94M & 1         \\\\\n",
       "\tB00846FJ0S & B00846FJ0S & 1         \\\\\n",
       "\tB00856QSL6 & B00856QSL6 & 1         \\\\\n",
       "\tB008BU4NVI & B008BU4NVI & 1         \\\\\n",
       "\tB008WNV4J8 & B008WNV4J8 & 1         \\\\\n",
       "\tB008XLU8OQ & B008XLU8OQ & 1         \\\\\n",
       "\tB0098PUNGO & B0098PUNGO & 1         \\\\\n",
       "\tB00A7W0VLY & B00A7W0VLY & 1         \\\\\n",
       "\tB00B507D7C & B00B507D7C & 1         \\\\\n",
       "\tB00B99DSQ4 & B00B99DSQ4 & 1         \\\\\n",
       "\tB00BJCO94G & B00BJCO94G & 1         \\\\\n",
       "\tB00BQYVQWU & B00BQYVQWU & 1         \\\\\n",
       "\tB00F7PXALO & B00F7PXALO & 1         \\\\\n",
       "\\end{tabular}\n"
      ],
      "text/markdown": [
       "\n",
       "| <!--/--> | producto | vistas | \n",
       "|---|---|---|---|---|---|---|---|---|---|---|---|---|---|---|---|---|---|---|---|---|---|---|---|---|---|---|---|---|---|---|---|---|---|---|---|---|---|---|---|---|---|---|---|---|---|---|---|---|---|---|---|---|---|---|---|---|---|---|---|---|\n",
       "| B000CPGYTY | B000CPGYTY | 20         | \n",
       "| B000IDSLOG | B000IDSLOG | 20         | \n",
       "| B000CSBP9K | B000CSBP9K | 19         | \n",
       "| B000EDJ1A8 | B000EDJ1A8 | 19         | \n",
       "| B000GB0NZK | B000GB0NZK | 19         | \n",
       "| B000GJIE4E | B000GJIE4E | 19         | \n",
       "| B000GOUUR8 | B000GOUUR8 | 19         | \n",
       "| B000I2MRHO | B000I2MRHO | 19         | \n",
       "| B000I2MRLK | B000I2MRLK | 19         | \n",
       "| B000JM4R8U | B000JM4R8U | 19         | \n",
       "| B000JPQFH8 | B000JPQFH8 | 19         | \n",
       "| B000K50780 | B000K50780 | 19         | \n",
       "| B000K53U7K | B000K53U7K | 19         | \n",
       "| B000KW3ZE6 | B000KW3ZE6 | 19         | \n",
       "| B000LXQVA4 | B000LXQVA4 | 19         | \n",
       "| B000BVKPNA | B000BVKPNA | 18         | \n",
       "| B000CCEWBY | B000CCEWBY | 18         | \n",
       "| B000COY136 | B000COY136 | 18         | \n",
       "| B000KJZOWU | B000KJZOWU | 18         | \n",
       "| B000KPZLSG | B000KPZLSG | 18         | \n",
       "| B000M432IG | B000M432IG | 18         | \n",
       "| B000BNQC58 | B000BNQC58 | 16         | \n",
       "| B000A88JZA | B000A88JZA | 15         | \n",
       "| B000M49MO4 | B000M49MO4 | 15         | \n",
       "| B000M5HZ8I | B000M5HZ8I | 15         | \n",
       "| B0009RG8WS | B0009RG8WS | 14         | \n",
       "| B000N9H4SE | B000N9H4SE | 14         | \n",
       "| B00081J3N6 | B00081J3N6 | 13         | \n",
       "| B000NSBBIY | B000NSBBIY | 13         | \n",
       "| B000R9YXWA | B000R9YXWA | 13         | \n",
       "| ... | ... | ... | \n",
       "| B0056S8AGW | B0056S8AGW | 1          | \n",
       "| B0057ONXG2 | B0057ONXG2 | 1          | \n",
       "| B005EDBWOQ | B005EDBWOQ | 1          | \n",
       "| B005KMK670 | B005KMK670 | 1          | \n",
       "| B005L4NIRC | B005L4NIRC | 1          | \n",
       "| B005MM7FA4 | B005MM7FA4 | 1          | \n",
       "| B005MQR7GW | B005MQR7GW | 1          | \n",
       "| B005OI8O88 | B005OI8O88 | 1          | \n",
       "| B005SPCXKC | B005SPCXKC | 1          | \n",
       "| B006I18WQE | B006I18WQE | 1          | \n",
       "| B006I1ZMJ4 | B006I1ZMJ4 | 1          | \n",
       "| B006P05S42 | B006P05S42 | 1          | \n",
       "| B006UY170M | B006UY170M | 1          | \n",
       "| B0072FREFA | B0072FREFA | 1          | \n",
       "| B0076NYZBE | B0076NYZBE | 1          | \n",
       "| B00792RG1S | B00792RG1S | 1          | \n",
       "| B007HZBOFG | B007HZBOFG | 1          | \n",
       "| B007JVI94M | B007JVI94M | 1          | \n",
       "| B00846FJ0S | B00846FJ0S | 1          | \n",
       "| B00856QSL6 | B00856QSL6 | 1          | \n",
       "| B008BU4NVI | B008BU4NVI | 1          | \n",
       "| B008WNV4J8 | B008WNV4J8 | 1          | \n",
       "| B008XLU8OQ | B008XLU8OQ | 1          | \n",
       "| B0098PUNGO | B0098PUNGO | 1          | \n",
       "| B00A7W0VLY | B00A7W0VLY | 1          | \n",
       "| B00B507D7C | B00B507D7C | 1          | \n",
       "| B00B99DSQ4 | B00B99DSQ4 | 1          | \n",
       "| B00BJCO94G | B00BJCO94G | 1          | \n",
       "| B00BQYVQWU | B00BQYVQWU | 1          | \n",
       "| B00F7PXALO | B00F7PXALO | 1          | \n",
       "\n",
       "\n"
      ],
      "text/plain": [
       "           producto   vistas\n",
       "B000CPGYTY B000CPGYTY 20    \n",
       "B000IDSLOG B000IDSLOG 20    \n",
       "B000CSBP9K B000CSBP9K 19    \n",
       "B000EDJ1A8 B000EDJ1A8 19    \n",
       "B000GB0NZK B000GB0NZK 19    \n",
       "B000GJIE4E B000GJIE4E 19    \n",
       "B000GOUUR8 B000GOUUR8 19    \n",
       "B000I2MRHO B000I2MRHO 19    \n",
       "B000I2MRLK B000I2MRLK 19    \n",
       "B000JM4R8U B000JM4R8U 19    \n",
       "B000JPQFH8 B000JPQFH8 19    \n",
       "B000K50780 B000K50780 19    \n",
       "B000K53U7K B000K53U7K 19    \n",
       "B000KW3ZE6 B000KW3ZE6 19    \n",
       "B000LXQVA4 B000LXQVA4 19    \n",
       "B000BVKPNA B000BVKPNA 18    \n",
       "B000CCEWBY B000CCEWBY 18    \n",
       "B000COY136 B000COY136 18    \n",
       "B000KJZOWU B000KJZOWU 18    \n",
       "B000KPZLSG B000KPZLSG 18    \n",
       "B000M432IG B000M432IG 18    \n",
       "B000BNQC58 B000BNQC58 16    \n",
       "B000A88JZA B000A88JZA 15    \n",
       "B000M49MO4 B000M49MO4 15    \n",
       "B000M5HZ8I B000M5HZ8I 15    \n",
       "B0009RG8WS B0009RG8WS 14    \n",
       "B000N9H4SE B000N9H4SE 14    \n",
       "B00081J3N6 B00081J3N6 13    \n",
       "B000NSBBIY B000NSBBIY 13    \n",
       "B000R9YXWA B000R9YXWA 13    \n",
       "...        ...        ...   \n",
       "B0056S8AGW B0056S8AGW 1     \n",
       "B0057ONXG2 B0057ONXG2 1     \n",
       "B005EDBWOQ B005EDBWOQ 1     \n",
       "B005KMK670 B005KMK670 1     \n",
       "B005L4NIRC B005L4NIRC 1     \n",
       "B005MM7FA4 B005MM7FA4 1     \n",
       "B005MQR7GW B005MQR7GW 1     \n",
       "B005OI8O88 B005OI8O88 1     \n",
       "B005SPCXKC B005SPCXKC 1     \n",
       "B006I18WQE B006I18WQE 1     \n",
       "B006I1ZMJ4 B006I1ZMJ4 1     \n",
       "B006P05S42 B006P05S42 1     \n",
       "B006UY170M B006UY170M 1     \n",
       "B0072FREFA B0072FREFA 1     \n",
       "B0076NYZBE B0076NYZBE 1     \n",
       "B00792RG1S B00792RG1S 1     \n",
       "B007HZBOFG B007HZBOFG 1     \n",
       "B007JVI94M B007JVI94M 1     \n",
       "B00846FJ0S B00846FJ0S 1     \n",
       "B00856QSL6 B00856QSL6 1     \n",
       "B008BU4NVI B008BU4NVI 1     \n",
       "B008WNV4J8 B008WNV4J8 1     \n",
       "B008XLU8OQ B008XLU8OQ 1     \n",
       "B0098PUNGO B0098PUNGO 1     \n",
       "B00A7W0VLY B00A7W0VLY 1     \n",
       "B00B507D7C B00B507D7C 1     \n",
       "B00B99DSQ4 B00B99DSQ4 1     \n",
       "B00BJCO94G B00BJCO94G 1     \n",
       "B00BQYVQWU B00BQYVQWU 1     \n",
       "B00F7PXALO B00F7PXALO 1     "
      ]
     },
     "metadata": {},
     "output_type": "display_data"
    }
   ],
   "source": [
    "# Sirve para saber que prodcutos han sido más calificados\n",
    " views_per_prod <- colCounts(sr)\n",
    " table_views <- data.frame(producto = names(views_per_prod), vistas = views_per_prod)\n",
    " table_views <- table_views[order(table_views$vistas, decreasing = TRUE), ]\n",
    " table_views\n",
    "\n",
    "# Viene del libro\n",
    "# views_per_movie <- colCounts(MovieLense)\n",
    "# table_views <- data.frame(movie = names(views_per_movie),views = views_per_movie)\n",
    "# table_views <- table_views[order(table_views$views, decreasing = TRUE), ]"
   ]
  },
  {
   "cell_type": "code",
   "execution_count": 23,
   "metadata": {},
   "outputs": [
    {
     "data": {},
     "metadata": {},
     "output_type": "display_data"
    },
    {
     "data": {
      "image/png": "[encoded data removed]",
      "text/plain": [
       "plot without title"
      ]
     },
     "metadata": {},
     "output_type": "display_data"
    }
   ],
   "source": [
    "# Sirve para generar el gráfico de los productos más calificados\n",
    "ggplot(table_views[1:5, ], aes(x = producto, y = vistas)) + geom_bar(stat=\"identity\") + theme(axis.text.x =\n",
    " element_text(angle = 45, hjust = 1)) + ggtitle(\"Número de vistas del top de Productos\")\n",
    "\n",
    "# Viene del libro\n",
    "# ggplot(table_views[1:6, ], aes(x = movie, y = views)) + geom_bar(stat=\"identity\") + theme(axis.text.x =\n",
    "# element_text(angle = 45, hjust = 1)) + ggtitle(\"Number of views of the top movies\")"
   ]
  },
  {
   "cell_type": "code",
   "execution_count": 24,
   "metadata": {},
   "outputs": [
    {
     "data": {
      "text/html": [
       "<dl class=dl-horizontal>\n",
       "\t<dt>B000056J76</dt>\n",
       "\t\t<dd>3.71428571428571</dd>\n",
       "\t<dt>B000056OV0</dt>\n",
       "\t\t<dd>2.57142857142857</dd>\n",
       "\t<dt>B00005BMDX</dt>\n",
       "\t\t<dd>3</dd>\n",
       "\t<dt>B00005JIVI</dt>\n",
       "\t\t<dd>3.14285714285714</dd>\n",
       "\t<dt>B00006966I</dt>\n",
       "\t\t<dd>2.625</dd>\n",
       "\t<dt>B00008ODBG</dt>\n",
       "\t\t<dd>2.72727272727273</dd>\n",
       "\t<dt>B00009QMQV</dt>\n",
       "\t\t<dd>3.36363636363636</dd>\n",
       "\t<dt>B0001D12XA</dt>\n",
       "\t\t<dd>2.81818181818182</dd>\n",
       "\t<dt>B0001YIB1A</dt>\n",
       "\t\t<dd>2.72727272727273</dd>\n",
       "\t<dt>B00029TCQM</dt>\n",
       "\t\t<dd>2.45454545454545</dd>\n",
       "\t<dt>B0002HYCMI</dt>\n",
       "\t\t<dd>2.90909090909091</dd>\n",
       "\t<dt>B00063EDEK</dt>\n",
       "\t\t<dd>2.36363636363636</dd>\n",
       "\t<dt>B0007KMUH4</dt>\n",
       "\t\t<dd>3.27272727272727</dd>\n",
       "\t<dt>B00081J3N6</dt>\n",
       "\t\t<dd>2.92307692307692</dd>\n",
       "\t<dt>B0009RG8WS</dt>\n",
       "\t\t<dd>2.85714285714286</dd>\n",
       "\t<dt>B000A88JZA</dt>\n",
       "\t\t<dd>2.66666666666667</dd>\n",
       "\t<dt>B000BNQC58</dt>\n",
       "\t\t<dd>2.375</dd>\n",
       "\t<dt>B000BVKPNA</dt>\n",
       "\t\t<dd>2.94444444444444</dd>\n",
       "\t<dt>B000CCEWBY</dt>\n",
       "\t\t<dd>3.05555555555556</dd>\n",
       "\t<dt>B000COY136</dt>\n",
       "\t\t<dd>3.16666666666667</dd>\n",
       "\t<dt>B000CPGYTY</dt>\n",
       "\t\t<dd>3.2</dd>\n",
       "\t<dt>B000CSBP9K</dt>\n",
       "\t\t<dd>2.68421052631579</dd>\n",
       "\t<dt>B000EDJ1A8</dt>\n",
       "\t\t<dd>2.89473684210526</dd>\n",
       "\t<dt>B000GB0NZK</dt>\n",
       "\t\t<dd>2.47368421052632</dd>\n",
       "\t<dt>B000GJIE4E</dt>\n",
       "\t\t<dd>3.10526315789474</dd>\n",
       "\t<dt>B000GOUUR8</dt>\n",
       "\t\t<dd>3.15789473684211</dd>\n",
       "\t<dt>B000I2MRHO</dt>\n",
       "\t\t<dd>2.68421052631579</dd>\n",
       "\t<dt>B000I2MRLK</dt>\n",
       "\t\t<dd>3</dd>\n",
       "\t<dt>B000IDSLOG</dt>\n",
       "\t\t<dd>3.25</dd>\n",
       "\t<dt>B000JM4R8U</dt>\n",
       "\t\t<dd>3.89473684210526</dd>\n",
       "\t<dt>B000JPQFH8</dt>\n",
       "\t\t<dd>3.42105263157895</dd>\n",
       "\t<dt>B000K50780</dt>\n",
       "\t\t<dd>3</dd>\n",
       "\t<dt>B000K53U7K</dt>\n",
       "\t\t<dd>3.05263157894737</dd>\n",
       "\t<dt>B000KJZOWU</dt>\n",
       "\t\t<dd>2.72222222222222</dd>\n",
       "\t<dt>B000KPZLSG</dt>\n",
       "\t\t<dd>3.33333333333333</dd>\n",
       "\t<dt>B000KW3ZE6</dt>\n",
       "\t\t<dd>3.05263157894737</dd>\n",
       "\t<dt>B000LXQVA4</dt>\n",
       "\t\t<dd>2.63157894736842</dd>\n",
       "\t<dt>B000M432IG</dt>\n",
       "\t\t<dd>3.22222222222222</dd>\n",
       "\t<dt>B000M49MO4</dt>\n",
       "\t\t<dd>3.33333333333333</dd>\n",
       "\t<dt>B000M5HZ8I</dt>\n",
       "\t\t<dd>3.86666666666667</dd>\n",
       "\t<dt>B000N9H4SE</dt>\n",
       "\t\t<dd>2.85714285714286</dd>\n",
       "\t<dt>B000NSBBIY</dt>\n",
       "\t\t<dd>3.38461538461538</dd>\n",
       "\t<dt>B000R9YXWA</dt>\n",
       "\t\t<dd>3.30769230769231</dd>\n",
       "\t<dt>B000RFAAEO</dt>\n",
       "\t\t<dd>3.15384615384615</dd>\n",
       "\t<dt>B000RFCXIK</dt>\n",
       "\t\t<dd>2.25</dd>\n",
       "\t<dt>B000RHJT6C</dt>\n",
       "\t\t<dd>2.1</dd>\n",
       "\t<dt>B000RHWN42</dt>\n",
       "\t\t<dd>3.44444444444444</dd>\n",
       "\t<dt>B000RZNJII</dt>\n",
       "\t\t<dd>3.33333333333333</dd>\n",
       "\t<dt>B000TFMIMY</dt>\n",
       "\t\t<dd>2.85714285714286</dd>\n",
       "\t<dt>B000TILSOU</dt>\n",
       "\t\t<dd>3.14285714285714</dd>\n",
       "\t<dt>B002QYW8LW</dt>\n",
       "\t\t<dd>5</dd>\n",
       "\t<dt>B002QZ64T8</dt>\n",
       "\t\t<dd>1</dd>\n",
       "\t<dt>B002R2BFVM</dt>\n",
       "\t\t<dd>2</dd>\n",
       "\t<dt>B002SG7JSU</dt>\n",
       "\t\t<dd>5</dd>\n",
       "\t<dt>B002SW3C7G</dt>\n",
       "\t\t<dd>1</dd>\n",
       "\t<dt>B002TOKHGC</dt>\n",
       "\t\t<dd>5</dd>\n",
       "\t<dt>B002UD65PY</dt>\n",
       "\t\t<dd>1</dd>\n",
       "\t<dt>B002UD65ZE</dt>\n",
       "\t\t<dd>1</dd>\n",
       "\t<dt>B002UD660S</dt>\n",
       "\t\t<dd>1</dd>\n",
       "\t<dt>B002UXQRLG</dt>\n",
       "\t\t<dd>2</dd>\n",
       "\t<dt>B002UXQRMU</dt>\n",
       "\t\t<dd>1</dd>\n",
       "\t<dt>B002V92ZJC</dt>\n",
       "\t\t<dd>2</dd>\n",
       "\t<dt>B002VA2UFA</dt>\n",
       "\t\t<dd>1</dd>\n",
       "\t<dt>B002WN2B78</dt>\n",
       "\t\t<dd>4</dd>\n",
       "\t<dt>B002WN2BY6</dt>\n",
       "\t\t<dd>3</dd>\n",
       "\t<dt>B00318CLUK</dt>\n",
       "\t\t<dd>2</dd>\n",
       "\t<dt>B00318CLVE</dt>\n",
       "\t\t<dd>1</dd>\n",
       "\t<dt>B0034UGFB6</dt>\n",
       "\t\t<dd>2</dd>\n",
       "\t<dt>B0035LLG2W</dt>\n",
       "\t\t<dd>5</dd>\n",
       "\t<dt>B0035LQNNE</dt>\n",
       "\t\t<dd>3</dd>\n",
       "\t<dt>B0038JDUPC</dt>\n",
       "\t\t<dd>5</dd>\n",
       "\t<dt>B0038JDVBK</dt>\n",
       "\t\t<dd>5</dd>\n",
       "\t<dt>B0038W0JHG</dt>\n",
       "\t\t<dd>4</dd>\n",
       "\t<dt>B003AJXY10</dt>\n",
       "\t\t<dd>2</dd>\n",
       "\t<dt>B003AM8CL4</dt>\n",
       "\t\t<dd>5</dd>\n",
       "\t<dt>B003BGTDDK</dt>\n",
       "\t\t<dd>3</dd>\n",
       "\t<dt>B003BIFOGS</dt>\n",
       "\t\t<dd>2</dd>\n",
       "\t<dt>B003BL1HIE</dt>\n",
       "\t\t<dd>4</dd>\n",
       "\t<dt>B003DML8W6</dt>\n",
       "\t\t<dd>5</dd>\n",
       "\t<dt>B003FGWA8G</dt>\n",
       "\t\t<dd>2</dd>\n",
       "\t<dt>B003H39L9S</dt>\n",
       "\t\t<dd>1</dd>\n",
       "\t<dt>B003HIXXBU</dt>\n",
       "\t\t<dd>3</dd>\n",
       "\t<dt>B003I867Z8</dt>\n",
       "\t\t<dd>5</dd>\n",
       "\t<dt>B003LPUPVU</dt>\n",
       "\t\t<dd>3</dd>\n",
       "\t<dt>B003LZDB4S</dt>\n",
       "\t\t<dd>4</dd>\n",
       "\t<dt>B003N0JXNO</dt>\n",
       "\t\t<dd>2</dd>\n",
       "\t<dt>B003TJAGAS</dt>\n",
       "\t\t<dd>2</dd>\n",
       "\t<dt>B003TXVY14</dt>\n",
       "\t\t<dd>2</dd>\n",
       "\t<dt>B003TXZWOY</dt>\n",
       "\t\t<dd>2</dd>\n",
       "\t<dt>B003U9V18S</dt>\n",
       "\t\t<dd>1</dd>\n",
       "\t<dt>B003UPDVG2</dt>\n",
       "\t\t<dd>1</dd>\n",
       "\t<dt>B003VLG4PK</dt>\n",
       "\t\t<dd>5</dd>\n",
       "\t<dt>B003Z6Q3V6</dt>\n",
       "\t\t<dd>2</dd>\n",
       "\t<dt>B003ZFPRHS</dt>\n",
       "\t\t<dd>3</dd>\n",
       "\t<dt>B003ZUXBBC</dt>\n",
       "\t\t<dd>2</dd>\n",
       "\t<dt>B0040JZ4VC</dt>\n",
       "\t\t<dd>3</dd>\n",
       "\t<dt>B0042D69WY</dt>\n",
       "\t\t<dd>2</dd>\n",
       "\t<dt>B0042MEQ7A</dt>\n",
       "\t\t<dd>5</dd>\n",
       "\t<dt>B00450SPSA</dt>\n",
       "\t\t<dd>3</dd>\n",
       "\t<dt>B0047EBM9I</dt>\n",
       "\t\t<dd>4</dd>\n",
       "\t<dt>B004B762AK</dt>\n",
       "\t\t<dd>4</dd>\n",
       "\t<dt>B004BJ0SN0</dt>\n",
       "\t\t<dd>5</dd>\n",
       "\t<dt>B004C053CY</dt>\n",
       "\t\t<dd>3</dd>\n",
       "\t<dt>B004CSNG6G</dt>\n",
       "\t\t<dd>3</dd>\n",
       "\t<dt>B004DC9TA8</dt>\n",
       "\t\t<dd>4</dd>\n",
       "\t<dt>B004DFO57M</dt>\n",
       "\t\t<dd>5</dd>\n",
       "\t<dt>B004ECJWK4</dt>\n",
       "\t\t<dd>2</dd>\n",
       "\t<dt>B004GB5UO0</dt>\n",
       "\t\t<dd>3</dd>\n",
       "\t<dt>B004GCJMLG</dt>\n",
       "\t\t<dd>3</dd>\n",
       "\t<dt>B004I110D8</dt>\n",
       "\t\t<dd>2</dd>\n",
       "\t<dt>B004IEBU5I</dt>\n",
       "\t\t<dd>4</dd>\n",
       "\t<dt>B004KT82AM</dt>\n",
       "\t\t<dd>1</dd>\n",
       "\t<dt>B004L2JJAK</dt>\n",
       "\t\t<dd>4</dd>\n",
       "\t<dt>B004QZBE8M</dt>\n",
       "\t\t<dd>3</dd>\n",
       "\t<dt>B004X8K46A</dt>\n",
       "\t\t<dd>4</dd>\n",
       "\t<dt>B00511J6IA</dt>\n",
       "\t\t<dd>3</dd>\n",
       "\t<dt>B0052QOKWQ</dt>\n",
       "\t\t<dd>5</dd>\n",
       "\t<dt>B0056S8AGW</dt>\n",
       "\t\t<dd>5</dd>\n",
       "\t<dt>B0057ONXG2</dt>\n",
       "\t\t<dd>5</dd>\n",
       "\t<dt>B005EDBWOQ</dt>\n",
       "\t\t<dd>2</dd>\n",
       "\t<dt>B005KMK670</dt>\n",
       "\t\t<dd>5</dd>\n",
       "\t<dt>B005L4NIRC</dt>\n",
       "\t\t<dd>3</dd>\n",
       "\t<dt>B005MM7FA4</dt>\n",
       "\t\t<dd>5</dd>\n",
       "\t<dt>B005MQR7GW</dt>\n",
       "\t\t<dd>1</dd>\n",
       "\t<dt>B005OI8O88</dt>\n",
       "\t\t<dd>1</dd>\n",
       "\t<dt>B005SPCXKC</dt>\n",
       "\t\t<dd>4</dd>\n",
       "\t<dt>B006I18WQE</dt>\n",
       "\t\t<dd>3</dd>\n",
       "\t<dt>B006I1ZMJ4</dt>\n",
       "\t\t<dd>1</dd>\n",
       "\t<dt>B006P05S42</dt>\n",
       "\t\t<dd>4</dd>\n",
       "\t<dt>B006UY170M</dt>\n",
       "\t\t<dd>4</dd>\n",
       "\t<dt>B0072FREFA</dt>\n",
       "\t\t<dd>5</dd>\n",
       "\t<dt>B0076NYZBE</dt>\n",
       "\t\t<dd>2</dd>\n",
       "\t<dt>B00792RG1S</dt>\n",
       "\t\t<dd>3</dd>\n",
       "\t<dt>B007HZBOFG</dt>\n",
       "\t\t<dd>3</dd>\n",
       "\t<dt>B007JVI94M</dt>\n",
       "\t\t<dd>2</dd>\n",
       "\t<dt>B00846FJ0S</dt>\n",
       "\t\t<dd>3</dd>\n",
       "\t<dt>B00856QSL6</dt>\n",
       "\t\t<dd>5</dd>\n",
       "\t<dt>B008BU4NVI</dt>\n",
       "\t\t<dd>4</dd>\n",
       "\t<dt>B008WNV4J8</dt>\n",
       "\t\t<dd>3</dd>\n",
       "\t<dt>B008XLU8OQ</dt>\n",
       "\t\t<dd>3</dd>\n",
       "\t<dt>B0098PUNGO</dt>\n",
       "\t\t<dd>5</dd>\n",
       "\t<dt>B00A7W0VLY</dt>\n",
       "\t\t<dd>3</dd>\n",
       "\t<dt>B00B507D7C</dt>\n",
       "\t\t<dd>2</dd>\n",
       "\t<dt>B00B99DSQ4</dt>\n",
       "\t\t<dd>4</dd>\n",
       "\t<dt>B00BJCO94G</dt>\n",
       "\t\t<dd>2</dd>\n",
       "\t<dt>B00BQYVQWU</dt>\n",
       "\t\t<dd>5</dd>\n",
       "\t<dt>B00F7PXALO</dt>\n",
       "\t\t<dd>2</dd>\n",
       "</dl>\n"
      ],
      "text/latex": [
       "\\begin{description*}\n",
       "\\item[B000056J76] 3.71428571428571\n",
       "\\item[B000056OV0] 2.57142857142857\n",
       "\\item[B00005BMDX] 3\n",
       "\\item[B00005JIVI] 3.14285714285714\n",
       "\\item[B00006966I] 2.625\n",
       "\\item[B00008ODBG] 2.72727272727273\n",
       "\\item[B00009QMQV] 3.36363636363636\n",
       "\\item[B0001D12XA] 2.81818181818182\n",
       "\\item[B0001YIB1A] 2.72727272727273\n",
       "\\item[B00029TCQM] 2.45454545454545\n",
       "\\item[B0002HYCMI] 2.90909090909091\n",
       "\\item[B00063EDEK] 2.36363636363636\n",
       "\\item[B0007KMUH4] 3.27272727272727\n",
       "\\item[B00081J3N6] 2.92307692307692\n",
       "\\item[B0009RG8WS] 2.85714285714286\n",
       "\\item[B000A88JZA] 2.66666666666667\n",
       "\\item[B000BNQC58] 2.375\n",
       "\\item[B000BVKPNA] 2.94444444444444\n",
       "\\item[B000CCEWBY] 3.05555555555556\n",
       "\\item[B000COY136] 3.16666666666667\n",
       "\\item[B000CPGYTY] 3.2\n",
       "\\item[B000CSBP9K] 2.68421052631579\n",
       "\\item[B000EDJ1A8] 2.89473684210526\n",
       "\\item[B000GB0NZK] 2.47368421052632\n",
       "\\item[B000GJIE4E] 3.10526315789474\n",
       "\\item[B000GOUUR8] 3.15789473684211\n",
       "\\item[B000I2MRHO] 2.68421052631579\n",
       "\\item[B000I2MRLK] 3\n",
       "\\item[B000IDSLOG] 3.25\n",
       "\\item[B000JM4R8U] 3.89473684210526\n",
       "\\item[B000JPQFH8] 3.42105263157895\n",
       "\\item[B000K50780] 3\n",
       "\\item[B000K53U7K] 3.05263157894737\n",
       "\\item[B000KJZOWU] 2.72222222222222\n",
       "\\item[B000KPZLSG] 3.33333333333333\n",
       "\\item[B000KW3ZE6] 3.05263157894737\n",
       "\\item[B000LXQVA4] 2.63157894736842\n",
       "\\item[B000M432IG] 3.22222222222222\n",
       "\\item[B000M49MO4] 3.33333333333333\n",
       "\\item[B000M5HZ8I] 3.86666666666667\n",
       "\\item[B000N9H4SE] 2.85714285714286\n",
       "\\item[B000NSBBIY] 3.38461538461538\n",
       "\\item[B000R9YXWA] 3.30769230769231\n",
       "\\item[B000RFAAEO] 3.15384615384615\n",
       "\\item[B000RFCXIK] 2.25\n",
       "\\item[B000RHJT6C] 2.1\n",
       "\\item[B000RHWN42] 3.44444444444444\n",
       "\\item[B000RZNJII] 3.33333333333333\n",
       "\\item[B000TFMIMY] 2.85714285714286\n",
       "\\item[B000TILSOU] 3.14285714285714\n",
       "\\item[B002QYW8LW] 5\n",
       "\\item[B002QZ64T8] 1\n",
       "\\item[B002R2BFVM] 2\n",
       "\\item[B002SG7JSU] 5\n",
       "\\item[B002SW3C7G] 1\n",
       "\\item[B002TOKHGC] 5\n",
       "\\item[B002UD65PY] 1\n",
       "\\item[B002UD65ZE] 1\n",
       "\\item[B002UD660S] 1\n",
       "\\item[B002UXQRLG] 2\n",
       "\\item[B002UXQRMU] 1\n",
       "\\item[B002V92ZJC] 2\n",
       "\\item[B002VA2UFA] 1\n",
       "\\item[B002WN2B78] 4\n",
       "\\item[B002WN2BY6] 3\n",
       "\\item[B00318CLUK] 2\n",
       "\\item[B00318CLVE] 1\n",
       "\\item[B0034UGFB6] 2\n",
       "\\item[B0035LLG2W] 5\n",
       "\\item[B0035LQNNE] 3\n",
       "\\item[B0038JDUPC] 5\n",
       "\\item[B0038JDVBK] 5\n",
       "\\item[B0038W0JHG] 4\n",
       "\\item[B003AJXY10] 2\n",
       "\\item[B003AM8CL4] 5\n",
       "\\item[B003BGTDDK] 3\n",
       "\\item[B003BIFOGS] 2\n",
       "\\item[B003BL1HIE] 4\n",
       "\\item[B003DML8W6] 5\n",
       "\\item[B003FGWA8G] 2\n",
       "\\item[B003H39L9S] 1\n",
       "\\item[B003HIXXBU] 3\n",
       "\\item[B003I867Z8] 5\n",
       "\\item[B003LPUPVU] 3\n",
       "\\item[B003LZDB4S] 4\n",
       "\\item[B003N0JXNO] 2\n",
       "\\item[B003TJAGAS] 2\n",
       "\\item[B003TXVY14] 2\n",
       "\\item[B003TXZWOY] 2\n",
       "\\item[B003U9V18S] 1\n",
       "\\item[B003UPDVG2] 1\n",
       "\\item[B003VLG4PK] 5\n",
       "\\item[B003Z6Q3V6] 2\n",
       "\\item[B003ZFPRHS] 3\n",
       "\\item[B003ZUXBBC] 2\n",
       "\\item[B0040JZ4VC] 3\n",
       "\\item[B0042D69WY] 2\n",
       "\\item[B0042MEQ7A] 5\n",
       "\\item[B00450SPSA] 3\n",
       "\\item[B0047EBM9I] 4\n",
       "\\item[B004B762AK] 4\n",
       "\\item[B004BJ0SN0] 5\n",
       "\\item[B004C053CY] 3\n",
       "\\item[B004CSNG6G] 3\n",
       "\\item[B004DC9TA8] 4\n",
       "\\item[B004DFO57M] 5\n",
       "\\item[B004ECJWK4] 2\n",
       "\\item[B004GB5UO0] 3\n",
       "\\item[B004GCJMLG] 3\n",
       "\\item[B004I110D8] 2\n",
       "\\item[B004IEBU5I] 4\n",
       "\\item[B004KT82AM] 1\n",
       "\\item[B004L2JJAK] 4\n",
       "\\item[B004QZBE8M] 3\n",
       "\\item[B004X8K46A] 4\n",
       "\\item[B00511J6IA] 3\n",
       "\\item[B0052QOKWQ] 5\n",
       "\\item[B0056S8AGW] 5\n",
       "\\item[B0057ONXG2] 5\n",
       "\\item[B005EDBWOQ] 2\n",
       "\\item[B005KMK670] 5\n",
       "\\item[B005L4NIRC] 3\n",
       "\\item[B005MM7FA4] 5\n",
       "\\item[B005MQR7GW] 1\n",
       "\\item[B005OI8O88] 1\n",
       "\\item[B005SPCXKC] 4\n",
       "\\item[B006I18WQE] 3\n",
       "\\item[B006I1ZMJ4] 1\n",
       "\\item[B006P05S42] 4\n",
       "\\item[B006UY170M] 4\n",
       "\\item[B0072FREFA] 5\n",
       "\\item[B0076NYZBE] 2\n",
       "\\item[B00792RG1S] 3\n",
       "\\item[B007HZBOFG] 3\n",
       "\\item[B007JVI94M] 2\n",
       "\\item[B00846FJ0S] 3\n",
       "\\item[B00856QSL6] 5\n",
       "\\item[B008BU4NVI] 4\n",
       "\\item[B008WNV4J8] 3\n",
       "\\item[B008XLU8OQ] 3\n",
       "\\item[B0098PUNGO] 5\n",
       "\\item[B00A7W0VLY] 3\n",
       "\\item[B00B507D7C] 2\n",
       "\\item[B00B99DSQ4] 4\n",
       "\\item[B00BJCO94G] 2\n",
       "\\item[B00BQYVQWU] 5\n",
       "\\item[B00F7PXALO] 2\n",
       "\\end{description*}\n"
      ],
      "text/markdown": [
       "B000056J76\n",
       ":   3.71428571428571B000056OV0\n",
       ":   2.57142857142857B00005BMDX\n",
       ":   3B00005JIVI\n",
       ":   3.14285714285714B00006966I\n",
       ":   2.625B00008ODBG\n",
       ":   2.72727272727273B00009QMQV\n",
       ":   3.36363636363636B0001D12XA\n",
       ":   2.81818181818182B0001YIB1A\n",
       ":   2.72727272727273B00029TCQM\n",
       ":   2.45454545454545B0002HYCMI\n",
       ":   2.90909090909091B00063EDEK\n",
       ":   2.36363636363636B0007KMUH4\n",
       ":   3.27272727272727B00081J3N6\n",
       ":   2.92307692307692B0009RG8WS\n",
       ":   2.85714285714286B000A88JZA\n",
       ":   2.66666666666667B000BNQC58\n",
       ":   2.375B000BVKPNA\n",
       ":   2.94444444444444B000CCEWBY\n",
       ":   3.05555555555556B000COY136\n",
       ":   3.16666666666667B000CPGYTY\n",
       ":   3.2B000CSBP9K\n",
       ":   2.68421052631579B000EDJ1A8\n",
       ":   2.89473684210526B000GB0NZK\n",
       ":   2.47368421052632B000GJIE4E\n",
       ":   3.10526315789474B000GOUUR8\n",
       ":   3.15789473684211B000I2MRHO\n",
       ":   2.68421052631579B000I2MRLK\n",
       ":   3B000IDSLOG\n",
       ":   3.25B000JM4R8U\n",
       ":   3.89473684210526B000JPQFH8\n",
       ":   3.42105263157895B000K50780\n",
       ":   3B000K53U7K\n",
       ":   3.05263157894737B000KJZOWU\n",
       ":   2.72222222222222B000KPZLSG\n",
       ":   3.33333333333333B000KW3ZE6\n",
       ":   3.05263157894737B000LXQVA4\n",
       ":   2.63157894736842B000M432IG\n",
       ":   3.22222222222222B000M49MO4\n",
       ":   3.33333333333333B000M5HZ8I\n",
       ":   3.86666666666667B000N9H4SE\n",
       ":   2.85714285714286B000NSBBIY\n",
       ":   3.38461538461538B000R9YXWA\n",
       ":   3.30769230769231B000RFAAEO\n",
       ":   3.15384615384615B000RFCXIK\n",
       ":   2.25B000RHJT6C\n",
       ":   2.1B000RHWN42\n",
       ":   3.44444444444444B000RZNJII\n",
       ":   3.33333333333333B000TFMIMY\n",
       ":   2.85714285714286B000TILSOU\n",
       ":   3.14285714285714B002QYW8LW\n",
       ":   5B002QZ64T8\n",
       ":   1B002R2BFVM\n",
       ":   2B002SG7JSU\n",
       ":   5B002SW3C7G\n",
       ":   1B002TOKHGC\n",
       ":   5B002UD65PY\n",
       ":   1B002UD65ZE\n",
       ":   1B002UD660S\n",
       ":   1B002UXQRLG\n",
       ":   2B002UXQRMU\n",
       ":   1B002V92ZJC\n",
       ":   2B002VA2UFA\n",
       ":   1B002WN2B78\n",
       ":   4B002WN2BY6\n",
       ":   3B00318CLUK\n",
       ":   2B00318CLVE\n",
       ":   1B0034UGFB6\n",
       ":   2B0035LLG2W\n",
       ":   5B0035LQNNE\n",
       ":   3B0038JDUPC\n",
       ":   5B0038JDVBK\n",
       ":   5B0038W0JHG\n",
       ":   4B003AJXY10\n",
       ":   2B003AM8CL4\n",
       ":   5B003BGTDDK\n",
       ":   3B003BIFOGS\n",
       ":   2B003BL1HIE\n",
       ":   4B003DML8W6\n",
       ":   5B003FGWA8G\n",
       ":   2B003H39L9S\n",
       ":   1B003HIXXBU\n",
       ":   3B003I867Z8\n",
       ":   5B003LPUPVU\n",
       ":   3B003LZDB4S\n",
       ":   4B003N0JXNO\n",
       ":   2B003TJAGAS\n",
       ":   2B003TXVY14\n",
       ":   2B003TXZWOY\n",
       ":   2B003U9V18S\n",
       ":   1B003UPDVG2\n",
       ":   1B003VLG4PK\n",
       ":   5B003Z6Q3V6\n",
       ":   2B003ZFPRHS\n",
       ":   3B003ZUXBBC\n",
       ":   2B0040JZ4VC\n",
       ":   3B0042D69WY\n",
       ":   2B0042MEQ7A\n",
       ":   5B00450SPSA\n",
       ":   3B0047EBM9I\n",
       ":   4B004B762AK\n",
       ":   4B004BJ0SN0\n",
       ":   5B004C053CY\n",
       ":   3B004CSNG6G\n",
       ":   3B004DC9TA8\n",
       ":   4B004DFO57M\n",
       ":   5B004ECJWK4\n",
       ":   2B004GB5UO0\n",
       ":   3B004GCJMLG\n",
       ":   3B004I110D8\n",
       ":   2B004IEBU5I\n",
       ":   4B004KT82AM\n",
       ":   1B004L2JJAK\n",
       ":   4B004QZBE8M\n",
       ":   3B004X8K46A\n",
       ":   4B00511J6IA\n",
       ":   3B0052QOKWQ\n",
       ":   5B0056S8AGW\n",
       ":   5B0057ONXG2\n",
       ":   5B005EDBWOQ\n",
       ":   2B005KMK670\n",
       ":   5B005L4NIRC\n",
       ":   3B005MM7FA4\n",
       ":   5B005MQR7GW\n",
       ":   1B005OI8O88\n",
       ":   1B005SPCXKC\n",
       ":   4B006I18WQE\n",
       ":   3B006I1ZMJ4\n",
       ":   1B006P05S42\n",
       ":   4B006UY170M\n",
       ":   4B0072FREFA\n",
       ":   5B0076NYZBE\n",
       ":   2B00792RG1S\n",
       ":   3B007HZBOFG\n",
       ":   3B007JVI94M\n",
       ":   2B00846FJ0S\n",
       ":   3B00856QSL6\n",
       ":   5B008BU4NVI\n",
       ":   4B008WNV4J8\n",
       ":   3B008XLU8OQ\n",
       ":   3B0098PUNGO\n",
       ":   5B00A7W0VLY\n",
       ":   3B00B507D7C\n",
       ":   2B00B99DSQ4\n",
       ":   4B00BJCO94G\n",
       ":   2B00BQYVQWU\n",
       ":   5B00F7PXALO\n",
       ":   2\n",
       "\n"
      ],
      "text/plain": [
       "B000056J76 B000056OV0 B00005BMDX B00005JIVI B00006966I B00008ODBG B00009QMQV \n",
       "  3.714286   2.571429   3.000000   3.142857   2.625000   2.727273   3.363636 \n",
       "B0001D12XA B0001YIB1A B00029TCQM B0002HYCMI B00063EDEK B0007KMUH4 B00081J3N6 \n",
       "  2.818182   2.727273   2.454545   2.909091   2.363636   3.272727   2.923077 \n",
       "B0009RG8WS B000A88JZA B000BNQC58 B000BVKPNA B000CCEWBY B000COY136 B000CPGYTY \n",
       "  2.857143   2.666667   2.375000   2.944444   3.055556   3.166667   3.200000 \n",
       "B000CSBP9K B000EDJ1A8 B000GB0NZK B000GJIE4E B000GOUUR8 B000I2MRHO B000I2MRLK \n",
       "  2.684211   2.894737   2.473684   3.105263   3.157895   2.684211   3.000000 \n",
       "B000IDSLOG B000JM4R8U B000JPQFH8 B000K50780 B000K53U7K B000KJZOWU B000KPZLSG \n",
       "  3.250000   3.894737   3.421053   3.000000   3.052632   2.722222   3.333333 \n",
       "B000KW3ZE6 B000LXQVA4 B000M432IG B000M49MO4 B000M5HZ8I B000N9H4SE B000NSBBIY \n",
       "  3.052632   2.631579   3.222222   3.333333   3.866667   2.857143   3.384615 \n",
       "B000R9YXWA B000RFAAEO B000RFCXIK B000RHJT6C B000RHWN42 B000RZNJII B000TFMIMY \n",
       "  3.307692   3.153846   2.250000   2.100000   3.444444   3.333333   2.857143 \n",
       "B000TILSOU B002QYW8LW B002QZ64T8 B002R2BFVM B002SG7JSU B002SW3C7G B002TOKHGC \n",
       "  3.142857   5.000000   1.000000   2.000000   5.000000   1.000000   5.000000 \n",
       "B002UD65PY B002UD65ZE B002UD660S B002UXQRLG B002UXQRMU B002V92ZJC B002VA2UFA \n",
       "  1.000000   1.000000   1.000000   2.000000   1.000000   2.000000   1.000000 \n",
       "B002WN2B78 B002WN2BY6 B00318CLUK B00318CLVE B0034UGFB6 B0035LLG2W B0035LQNNE \n",
       "  4.000000   3.000000   2.000000   1.000000   2.000000   5.000000   3.000000 \n",
       "B0038JDUPC B0038JDVBK B0038W0JHG B003AJXY10 B003AM8CL4 B003BGTDDK B003BIFOGS \n",
       "  5.000000   5.000000   4.000000   2.000000   5.000000   3.000000   2.000000 \n",
       "B003BL1HIE B003DML8W6 B003FGWA8G B003H39L9S B003HIXXBU B003I867Z8 B003LPUPVU \n",
       "  4.000000   5.000000   2.000000   1.000000   3.000000   5.000000   3.000000 \n",
       "B003LZDB4S B003N0JXNO B003TJAGAS B003TXVY14 B003TXZWOY B003U9V18S B003UPDVG2 \n",
       "  4.000000   2.000000   2.000000   2.000000   2.000000   1.000000   1.000000 \n",
       "B003VLG4PK B003Z6Q3V6 B003ZFPRHS B003ZUXBBC B0040JZ4VC B0042D69WY B0042MEQ7A \n",
       "  5.000000   2.000000   3.000000   2.000000   3.000000   2.000000   5.000000 \n",
       "B00450SPSA B0047EBM9I B004B762AK B004BJ0SN0 B004C053CY B004CSNG6G B004DC9TA8 \n",
       "  3.000000   4.000000   4.000000   5.000000   3.000000   3.000000   4.000000 \n",
       "B004DFO57M B004ECJWK4 B004GB5UO0 B004GCJMLG B004I110D8 B004IEBU5I B004KT82AM \n",
       "  5.000000   2.000000   3.000000   3.000000   2.000000   4.000000   1.000000 \n",
       "B004L2JJAK B004QZBE8M B004X8K46A B00511J6IA B0052QOKWQ B0056S8AGW B0057ONXG2 \n",
       "  4.000000   3.000000   4.000000   3.000000   5.000000   5.000000   5.000000 \n",
       "B005EDBWOQ B005KMK670 B005L4NIRC B005MM7FA4 B005MQR7GW B005OI8O88 B005SPCXKC \n",
       "  2.000000   5.000000   3.000000   5.000000   1.000000   1.000000   4.000000 \n",
       "B006I18WQE B006I1ZMJ4 B006P05S42 B006UY170M B0072FREFA B0076NYZBE B00792RG1S \n",
       "  3.000000   1.000000   4.000000   4.000000   5.000000   2.000000   3.000000 \n",
       "B007HZBOFG B007JVI94M B00846FJ0S B00856QSL6 B008BU4NVI B008WNV4J8 B008XLU8OQ \n",
       "  3.000000   2.000000   3.000000   5.000000   4.000000   3.000000   3.000000 \n",
       "B0098PUNGO B00A7W0VLY B00B507D7C B00B99DSQ4 B00BJCO94G B00BQYVQWU B00F7PXALO \n",
       "  5.000000   3.000000   2.000000   4.000000   2.000000   5.000000   2.000000 "
      ]
     },
     "metadata": {},
     "output_type": "display_data"
    }
   ],
   "source": [
    "# Sirve para sacar el promedio de calificaciones de los productos\n",
    "average_ratings <- colMeans(sr)\n",
    "average_ratings\n",
    "\n",
    "\n",
    "# Viene del libro\n",
    "# average_ratings <- colMeans(MovieLense)"
   ]
  },
  {
   "cell_type": "code",
   "execution_count": 25,
   "metadata": {},
   "outputs": [
    {
     "name": "stderr",
     "output_type": "stream",
     "text": [
      "`stat_bin()` using `bins = 30`. Pick better value with `binwidth`.\n"
     ]
    },
    {
     "data": {},
     "metadata": {},
     "output_type": "display_data"
    },
    {
     "data": {
      "image/png": "[encoded data removed]",
      "text/plain": [
       "plot without title"
      ]
     },
     "metadata": {},
     "output_type": "display_data"
    }
   ],
   "source": [
    "# Sirve para sacar el gráfico de distribución del promedio de calificaciones de los productos\n",
    "qplot(average_ratings) + stat_bin(binwidth = 0.05) + \n",
    "ggtitle(\"Distribución del promedio de calificaciones de los productos\")\n",
    "options(warn=-1)\n",
    "\n",
    "# Viene del libro\n",
    "# qplot(average_ratings) + stat_bin(binwidth = 0.1) + ggtitle(\"Distribution of the average movie rating\")"
   ]
  },
  {
   "cell_type": "code",
   "execution_count": 26,
   "metadata": {},
   "outputs": [
    {
     "data": {
      "text/html": [
       "<dl class=dl-horizontal>\n",
       "\t<dt>B00008ODBG</dt>\n",
       "\t\t<dd>2.72727272727273</dd>\n",
       "\t<dt>B00009QMQV</dt>\n",
       "\t\t<dd>3.36363636363636</dd>\n",
       "\t<dt>B0001D12XA</dt>\n",
       "\t\t<dd>2.81818181818182</dd>\n",
       "\t<dt>B0001YIB1A</dt>\n",
       "\t\t<dd>2.72727272727273</dd>\n",
       "\t<dt>B00029TCQM</dt>\n",
       "\t\t<dd>2.45454545454545</dd>\n",
       "\t<dt>B0002HYCMI</dt>\n",
       "\t\t<dd>2.90909090909091</dd>\n",
       "\t<dt>B00063EDEK</dt>\n",
       "\t\t<dd>2.36363636363636</dd>\n",
       "\t<dt>B0007KMUH4</dt>\n",
       "\t\t<dd>3.27272727272727</dd>\n",
       "\t<dt>B00081J3N6</dt>\n",
       "\t\t<dd>2.92307692307692</dd>\n",
       "\t<dt>B0009RG8WS</dt>\n",
       "\t\t<dd>2.85714285714286</dd>\n",
       "\t<dt>B000A88JZA</dt>\n",
       "\t\t<dd>2.66666666666667</dd>\n",
       "\t<dt>B000BNQC58</dt>\n",
       "\t\t<dd>2.375</dd>\n",
       "\t<dt>B000BVKPNA</dt>\n",
       "\t\t<dd>2.94444444444444</dd>\n",
       "\t<dt>B000CCEWBY</dt>\n",
       "\t\t<dd>3.05555555555556</dd>\n",
       "\t<dt>B000COY136</dt>\n",
       "\t\t<dd>3.16666666666667</dd>\n",
       "\t<dt>B000CPGYTY</dt>\n",
       "\t\t<dd>3.2</dd>\n",
       "\t<dt>B000CSBP9K</dt>\n",
       "\t\t<dd>2.68421052631579</dd>\n",
       "\t<dt>B000EDJ1A8</dt>\n",
       "\t\t<dd>2.89473684210526</dd>\n",
       "\t<dt>B000GB0NZK</dt>\n",
       "\t\t<dd>2.47368421052632</dd>\n",
       "\t<dt>B000GJIE4E</dt>\n",
       "\t\t<dd>3.10526315789474</dd>\n",
       "\t<dt>B000GOUUR8</dt>\n",
       "\t\t<dd>3.15789473684211</dd>\n",
       "\t<dt>B000I2MRHO</dt>\n",
       "\t\t<dd>2.68421052631579</dd>\n",
       "\t<dt>B000I2MRLK</dt>\n",
       "\t\t<dd>3</dd>\n",
       "\t<dt>B000IDSLOG</dt>\n",
       "\t\t<dd>3.25</dd>\n",
       "\t<dt>B000JM4R8U</dt>\n",
       "\t\t<dd>3.89473684210526</dd>\n",
       "\t<dt>B000JPQFH8</dt>\n",
       "\t\t<dd>3.42105263157895</dd>\n",
       "\t<dt>B000K50780</dt>\n",
       "\t\t<dd>3</dd>\n",
       "\t<dt>B000K53U7K</dt>\n",
       "\t\t<dd>3.05263157894737</dd>\n",
       "\t<dt>B000KJZOWU</dt>\n",
       "\t\t<dd>2.72222222222222</dd>\n",
       "\t<dt>B000KPZLSG</dt>\n",
       "\t\t<dd>3.33333333333333</dd>\n",
       "\t<dt>B000KW3ZE6</dt>\n",
       "\t\t<dd>3.05263157894737</dd>\n",
       "\t<dt>B000LXQVA4</dt>\n",
       "\t\t<dd>2.63157894736842</dd>\n",
       "\t<dt>B000M432IG</dt>\n",
       "\t\t<dd>3.22222222222222</dd>\n",
       "\t<dt>B000M49MO4</dt>\n",
       "\t\t<dd>3.33333333333333</dd>\n",
       "\t<dt>B000M5HZ8I</dt>\n",
       "\t\t<dd>3.86666666666667</dd>\n",
       "\t<dt>B000N9H4SE</dt>\n",
       "\t\t<dd>2.85714285714286</dd>\n",
       "\t<dt>B000NSBBIY</dt>\n",
       "\t\t<dd>3.38461538461538</dd>\n",
       "\t<dt>B000R9YXWA</dt>\n",
       "\t\t<dd>3.30769230769231</dd>\n",
       "\t<dt>B000RFAAEO</dt>\n",
       "\t\t<dd>3.15384615384615</dd>\n",
       "\t<dt>B000RFCXIK</dt>\n",
       "\t\t<dd>2.25</dd>\n",
       "\t<dt>B000RHJT6C</dt>\n",
       "\t\t<dd>2.1</dd>\n",
       "\t<dt>B000RHWN42</dt>\n",
       "\t\t<dd>3.44444444444444</dd>\n",
       "\t<dt>B000RZNJII</dt>\n",
       "\t\t<dd>3.33333333333333</dd>\n",
       "</dl>\n"
      ],
      "text/latex": [
       "\\begin{description*}\n",
       "\\item[B00008ODBG] 2.72727272727273\n",
       "\\item[B00009QMQV] 3.36363636363636\n",
       "\\item[B0001D12XA] 2.81818181818182\n",
       "\\item[B0001YIB1A] 2.72727272727273\n",
       "\\item[B00029TCQM] 2.45454545454545\n",
       "\\item[B0002HYCMI] 2.90909090909091\n",
       "\\item[B00063EDEK] 2.36363636363636\n",
       "\\item[B0007KMUH4] 3.27272727272727\n",
       "\\item[B00081J3N6] 2.92307692307692\n",
       "\\item[B0009RG8WS] 2.85714285714286\n",
       "\\item[B000A88JZA] 2.66666666666667\n",
       "\\item[B000BNQC58] 2.375\n",
       "\\item[B000BVKPNA] 2.94444444444444\n",
       "\\item[B000CCEWBY] 3.05555555555556\n",
       "\\item[B000COY136] 3.16666666666667\n",
       "\\item[B000CPGYTY] 3.2\n",
       "\\item[B000CSBP9K] 2.68421052631579\n",
       "\\item[B000EDJ1A8] 2.89473684210526\n",
       "\\item[B000GB0NZK] 2.47368421052632\n",
       "\\item[B000GJIE4E] 3.10526315789474\n",
       "\\item[B000GOUUR8] 3.15789473684211\n",
       "\\item[B000I2MRHO] 2.68421052631579\n",
       "\\item[B000I2MRLK] 3\n",
       "\\item[B000IDSLOG] 3.25\n",
       "\\item[B000JM4R8U] 3.89473684210526\n",
       "\\item[B000JPQFH8] 3.42105263157895\n",
       "\\item[B000K50780] 3\n",
       "\\item[B000K53U7K] 3.05263157894737\n",
       "\\item[B000KJZOWU] 2.72222222222222\n",
       "\\item[B000KPZLSG] 3.33333333333333\n",
       "\\item[B000KW3ZE6] 3.05263157894737\n",
       "\\item[B000LXQVA4] 2.63157894736842\n",
       "\\item[B000M432IG] 3.22222222222222\n",
       "\\item[B000M49MO4] 3.33333333333333\n",
       "\\item[B000M5HZ8I] 3.86666666666667\n",
       "\\item[B000N9H4SE] 2.85714285714286\n",
       "\\item[B000NSBBIY] 3.38461538461538\n",
       "\\item[B000R9YXWA] 3.30769230769231\n",
       "\\item[B000RFAAEO] 3.15384615384615\n",
       "\\item[B000RFCXIK] 2.25\n",
       "\\item[B000RHJT6C] 2.1\n",
       "\\item[B000RHWN42] 3.44444444444444\n",
       "\\item[B000RZNJII] 3.33333333333333\n",
       "\\end{description*}\n"
      ],
      "text/markdown": [
       "B00008ODBG\n",
       ":   2.72727272727273B00009QMQV\n",
       ":   3.36363636363636B0001D12XA\n",
       ":   2.81818181818182B0001YIB1A\n",
       ":   2.72727272727273B00029TCQM\n",
       ":   2.45454545454545B0002HYCMI\n",
       ":   2.90909090909091B00063EDEK\n",
       ":   2.36363636363636B0007KMUH4\n",
       ":   3.27272727272727B00081J3N6\n",
       ":   2.92307692307692B0009RG8WS\n",
       ":   2.85714285714286B000A88JZA\n",
       ":   2.66666666666667B000BNQC58\n",
       ":   2.375B000BVKPNA\n",
       ":   2.94444444444444B000CCEWBY\n",
       ":   3.05555555555556B000COY136\n",
       ":   3.16666666666667B000CPGYTY\n",
       ":   3.2B000CSBP9K\n",
       ":   2.68421052631579B000EDJ1A8\n",
       ":   2.89473684210526B000GB0NZK\n",
       ":   2.47368421052632B000GJIE4E\n",
       ":   3.10526315789474B000GOUUR8\n",
       ":   3.15789473684211B000I2MRHO\n",
       ":   2.68421052631579B000I2MRLK\n",
       ":   3B000IDSLOG\n",
       ":   3.25B000JM4R8U\n",
       ":   3.89473684210526B000JPQFH8\n",
       ":   3.42105263157895B000K50780\n",
       ":   3B000K53U7K\n",
       ":   3.05263157894737B000KJZOWU\n",
       ":   2.72222222222222B000KPZLSG\n",
       ":   3.33333333333333B000KW3ZE6\n",
       ":   3.05263157894737B000LXQVA4\n",
       ":   2.63157894736842B000M432IG\n",
       ":   3.22222222222222B000M49MO4\n",
       ":   3.33333333333333B000M5HZ8I\n",
       ":   3.86666666666667B000N9H4SE\n",
       ":   2.85714285714286B000NSBBIY\n",
       ":   3.38461538461538B000R9YXWA\n",
       ":   3.30769230769231B000RFAAEO\n",
       ":   3.15384615384615B000RFCXIK\n",
       ":   2.25B000RHJT6C\n",
       ":   2.1B000RHWN42\n",
       ":   3.44444444444444B000RZNJII\n",
       ":   3.33333333333333\n",
       "\n"
      ],
      "text/plain": [
       "B00008ODBG B00009QMQV B0001D12XA B0001YIB1A B00029TCQM B0002HYCMI B00063EDEK \n",
       "  2.727273   3.363636   2.818182   2.727273   2.454545   2.909091   2.363636 \n",
       "B0007KMUH4 B00081J3N6 B0009RG8WS B000A88JZA B000BNQC58 B000BVKPNA B000CCEWBY \n",
       "  3.272727   2.923077   2.857143   2.666667   2.375000   2.944444   3.055556 \n",
       "B000COY136 B000CPGYTY B000CSBP9K B000EDJ1A8 B000GB0NZK B000GJIE4E B000GOUUR8 \n",
       "  3.166667   3.200000   2.684211   2.894737   2.473684   3.105263   3.157895 \n",
       "B000I2MRHO B000I2MRLK B000IDSLOG B000JM4R8U B000JPQFH8 B000K50780 B000K53U7K \n",
       "  2.684211   3.000000   3.250000   3.894737   3.421053   3.000000   3.052632 \n",
       "B000KJZOWU B000KPZLSG B000KW3ZE6 B000LXQVA4 B000M432IG B000M49MO4 B000M5HZ8I \n",
       "  2.722222   3.333333   3.052632   2.631579   3.222222   3.333333   3.866667 \n",
       "B000N9H4SE B000NSBBIY B000R9YXWA B000RFAAEO B000RFCXIK B000RHJT6C B000RHWN42 \n",
       "  2.857143   3.384615   3.307692   3.153846   2.250000   2.100000   3.444444 \n",
       "B000RZNJII \n",
       "  3.333333 "
      ]
     },
     "metadata": {},
     "output_type": "display_data"
    }
   ],
   "source": [
    "# Promedio de la calificación de los productos más calificados \n",
    "average_ratings_relevant <- average_ratings[views_per_prod > 8]\n",
    "average_ratings_relevant\n",
    "\n",
    "# Viene del libro\n",
    "# average_ratings_relevant <- average_ratings[views_per_movie > 100]"
   ]
  },
  {
   "cell_type": "code",
   "execution_count": 27,
   "metadata": {},
   "outputs": [
    {
     "name": "stderr",
     "output_type": "stream",
     "text": [
      "`stat_bin()` using `bins = 30`. Pick better value with `binwidth`.\n"
     ]
    },
    {
     "data": {},
     "metadata": {},
     "output_type": "display_data"
    },
    {
     "data": {
      "image/png": "[encoded data removed]",
      "text/plain": [
       "plot without title"
      ]
     },
     "metadata": {},
     "output_type": "display_data"
    }
   ],
   "source": [
    "# Sirve para sacar el gráfico de distribución del promedio de las calificaciones de los productos más calificados\n",
    "qplot(average_ratings_relevant) + stat_bin(binwidth = 0.1) +\n",
    "ggtitle(paste(\"Distribución de promedio de calificaciones más relevantes\"))\n",
    "\n",
    "# Viene del libro\n",
    "# qplot(average_ratings_relevant) + stat_bin(binwidth = 0.1) + ggtitle(paste(\"Distribution of the relevant average ratings\"))"
   ]
  },
  {
   "cell_type": "code",
   "execution_count": 28,
   "metadata": {},
   "outputs": [
    {
     "data": {
      "text/html": [
       "<strong>80%:</strong> 44.2"
      ],
      "text/latex": [
       "\\textbf{80\\textbackslash{}\\%:} 44.2"
      ],
      "text/markdown": [
       "**80%:** 44.2"
      ],
      "text/plain": [
       " 80% \n",
       "44.2 "
      ]
     },
     "metadata": {},
     "output_type": "display_data"
    },
    {
     "data": {
      "text/html": [
       "<strong>80%:</strong> 13"
      ],
      "text/latex": [
       "\\textbf{80\\textbackslash{}\\%:} 13"
      ],
      "text/markdown": [
       "**80%:** 13"
      ],
      "text/plain": [
       "80% \n",
       " 13 "
      ]
     },
     "metadata": {},
     "output_type": "display_data"
    }
   ],
   "source": [
    "# Sirve para sacar la siguiente información:\n",
    "# Número mínimo de productos por usuario\n",
    "# Número mínimo de usuarios por productos\n",
    "min_n_product <- quantile(rowCounts(sr), 0.80)\n",
    "min_n_product\n",
    "min_n_users <- quantile(colCounts(sr), 0.80)\n",
    "min_n_users\n",
    "\n",
    "# Viene del libro\n",
    "# min_n_movies <- quantile(rowCounts(MovieLense), 0.99)\n",
    "# min_n_users <- quantile(colCounts(MovieLense), 0.99)\n",
    "# min_n_movies\n",
    "# min_n_users"
   ]
  },
  {
   "cell_type": "code",
   "execution_count": 29,
   "metadata": {},
   "outputs": [
    {
     "data": {},
     "metadata": {},
     "output_type": "display_data"
    },
    {
     "data": {
      "image/png": "[encoded data removed]",
      "text/plain": [
       "plot without title"
      ]
     },
     "metadata": {},
     "output_type": "display_data"
    }
   ],
   "source": [
    "# Sirve para sacar un gráfico de calor con el top de usuarios y productos\n",
    "image(sr[rowCounts(sr) > min_n_product, colCounts(sr) > min_n_users], main = \"Mapa de calor del top de usuarios y productos\")\n",
    "\n",
    "# Viene del libro\n",
    "# image(MovieLense[rowCounts(MovieLense) > min_n_movies,colCounts(MovieLense) > min_n_users], main = \"Heatmap of the top users\n",
    "# and movies\")"
   ]
  },
  {
   "cell_type": "code",
   "execution_count": 30,
   "metadata": {},
   "outputs": [
    {
     "data": {
      "text/plain": [
       "23 x 50 rating matrix of class 'realRatingMatrix' with 714 ratings."
      ]
     },
     "metadata": {},
     "output_type": "display_data"
    }
   ],
   "source": [
    "# Sirve para sacar el conjunto de datos más calificado\n",
    "ratings_product <- sr[rowCounts(sr) > 3, colCounts(sr) > 3] \n",
    "ratings_product\n",
    "\n",
    "# Viene del libro\n",
    "# ratings_movies <- MovieLense[rowCounts(MovieLense) > 50,colCounts(MovieLense) > 100] ratings_movies"
   ]
  },
  {
   "cell_type": "code",
   "execution_count": 31,
   "metadata": {},
   "outputs": [
    {
     "data": {
      "text/html": [
       "<ol class=list-inline>\n",
       "\t<li>TRUE</li>\n",
       "\t<li>FALSE</li>\n",
       "\t<li>FALSE</li>\n",
       "\t<li>FALSE</li>\n",
       "\t<li>TRUE</li>\n",
       "\t<li>TRUE</li>\n",
       "</ol>\n"
      ],
      "text/latex": [
       "\\begin{enumerate*}\n",
       "\\item TRUE\n",
       "\\item FALSE\n",
       "\\item FALSE\n",
       "\\item FALSE\n",
       "\\item TRUE\n",
       "\\item TRUE\n",
       "\\end{enumerate*}\n"
      ],
      "text/markdown": [
       "1. TRUE\n",
       "2. FALSE\n",
       "3. FALSE\n",
       "4. FALSE\n",
       "5. TRUE\n",
       "6. TRUE\n",
       "\n",
       "\n"
      ],
      "text/plain": [
       "[1]  TRUE FALSE FALSE FALSE  TRUE  TRUE"
      ]
     },
     "metadata": {},
     "output_type": "display_data"
    }
   ],
   "source": [
    "# Sirve para crear una muestra alatoria para generar el conjunto de entrenamiento y de prueba del modelo\n",
    "which_train <- sample(x = c(TRUE, FALSE), size = nrow(ratings_product),replace = TRUE, prob = c(0.6, 0.4))\n",
    "head(which_train)\n",
    "\n",
    "\n",
    "# Viene del libro \n",
    "# which_train <- sample(x = c(TRUE, FALSE), size = nrow(ratings_movies),replace = TRUE, prob = c(0.8, 0.2))\n",
    "# head(which_train)"
   ]
  },
  {
   "cell_type": "code",
   "execution_count": 32,
   "metadata": {
    "collapsed": true
   },
   "outputs": [],
   "source": [
    "# Sirve para crear el conjunto de entrenamiento y de prueba con la muestra aleatoria antes creada\n",
    "recc_data_train <- ratings_product[which_train, ]\n",
    "recc_data_test <- ratings_product[!which_train, ]\n",
    "\n",
    "# Viene del libro\n",
    "# recc_data_train <- ratings_movies[which_train, ]\n",
    "# recc_data_test <- ratings_movies[!which_train, ]"
   ]
  },
  {
   "cell_type": "code",
   "execution_count": 33,
   "metadata": {},
   "outputs": [],
   "source": [
    "# Sirve para construir la recomendación generando muestras aleatorias de los conjuntos de entrenamiento y prubea.\n",
    "which_set <- sample(x = 1:5, size = nrow(ratings_product), replace = TRUE)\n",
    "for(i_model in 1:5) {\n",
    "    which_train <- which_set == i_model\n",
    "    recc_data_train <- ratings_product[which_train, ]\n",
    "    recc_data_test <- ratings_product[!which_train, ]\n",
    "# build the recommender\n",
    "}\n",
    "\n",
    "# Viene del libro\n",
    "#which_set <- sample(x = 1:5, size = nrow(ratings_movies), replace = TRUE)\n",
    "#for(i_model in 1:5) {\n",
    "#which_train <- which_set == i_model\n",
    "#recc_data_train <- ratings_movies[which_train, ]\n",
    "#recc_data_test <- ratings_movies[!which_train, ]\n",
    "# build the recommender\n",
    "#}"
   ]
  },
  {
   "cell_type": "code",
   "execution_count": 34,
   "metadata": {},
   "outputs": [
    {
     "data": {
      "text/plain": [
       "Recommender of type 'IBCF' for 'realRatingMatrix' \n",
       "learned using 7 users."
      ]
     },
     "metadata": {},
     "output_type": "display_data"
    }
   ],
   "source": [
    "# Sirve para entrenar el modelo de recomendación usando el algoritmo IBCF que es del K-Vecino más cercano\n",
    "recc_model <- Recommender(data = recc_data_train, method = \"IBCF\", parameter = list(k = 4))\n",
    "recc_model\n",
    "\n",
    "# Viene del libro\n",
    "# recc_model <- Recommender(data = recc_data_train, method = \"IBCF\", parameter = list(k = 30))\n",
    "# recc_model"
   ]
  },
  {
   "cell_type": "code",
   "execution_count": 35,
   "metadata": {},
   "outputs": [
    {
     "data": {
      "text/plain": [
       "Recommendations as 'topNList' with n = 6 for 16 users. "
      ]
     },
     "metadata": {},
     "output_type": "display_data"
    }
   ],
   "source": [
    "# Sirve para aplicar la recomendación a los clientes del conjunto de prueba\n",
    "n_recommended <- 6\n",
    "recc_predicted <- predict(object = recc_model, newdata = recc_data_test, n = n_recommended)\n",
    "recc_predicted\n",
    "\n",
    "# Viene del libro\n",
    "# n_recommended <- 6\n",
    "# recc_predicted <- predict(object = recc_model, newdata = recc_data_test, n = n_recommended)\n",
    "# recc_predicted"
   ]
  },
  {
   "cell_type": "code",
   "execution_count": 36,
   "metadata": {},
   "outputs": [
    {
     "data": {
      "text/html": [
       "<ol class=list-inline>\n",
       "\t<li>41</li>\n",
       "\t<li>46</li>\n",
       "\t<li>36</li>\n",
       "\t<li>37</li>\n",
       "\t<li>38</li>\n",
       "\t<li>39</li>\n",
       "</ol>\n"
      ],
      "text/latex": [
       "\\begin{enumerate*}\n",
       "\\item 41\n",
       "\\item 46\n",
       "\\item 36\n",
       "\\item 37\n",
       "\\item 38\n",
       "\\item 39\n",
       "\\end{enumerate*}\n"
      ],
      "text/markdown": [
       "1. 41\n",
       "2. 46\n",
       "3. 36\n",
       "4. 37\n",
       "5. 38\n",
       "6. 39\n",
       "\n",
       "\n"
      ],
      "text/plain": [
       "[1] 41 46 36 37 38 39"
      ]
     },
     "metadata": {},
     "output_type": "display_data"
    }
   ],
   "source": [
    "# Sirve para ver los indices de los productos recomendados al primer usuario\n",
    "recc_predicted@items[[1]]\n",
    "\n",
    "# Viene del libro\n",
    "# recc_predicted@items[[1]]"
   ]
  },
  {
   "cell_type": "code",
   "execution_count": 37,
   "metadata": {},
   "outputs": [
    {
     "data": {
      "text/html": [
       "<ol class=list-inline>\n",
       "\t<li>'B000N9H4SE'</li>\n",
       "\t<li>'B000RHJT6C'</li>\n",
       "\t<li>'B000KW3ZE6'</li>\n",
       "\t<li>'B000LXQVA4'</li>\n",
       "\t<li>'B000M432IG'</li>\n",
       "\t<li>'B000M49MO4'</li>\n",
       "</ol>\n"
      ],
      "text/latex": [
       "\\begin{enumerate*}\n",
       "\\item 'B000N9H4SE'\n",
       "\\item 'B000RHJT6C'\n",
       "\\item 'B000KW3ZE6'\n",
       "\\item 'B000LXQVA4'\n",
       "\\item 'B000M432IG'\n",
       "\\item 'B000M49MO4'\n",
       "\\end{enumerate*}\n"
      ],
      "text/markdown": [
       "1. 'B000N9H4SE'\n",
       "2. 'B000RHJT6C'\n",
       "3. 'B000KW3ZE6'\n",
       "4. 'B000LXQVA4'\n",
       "5. 'B000M432IG'\n",
       "6. 'B000M49MO4'\n",
       "\n",
       "\n"
      ],
      "text/plain": [
       "[1] \"B000N9H4SE\" \"B000RHJT6C\" \"B000KW3ZE6\" \"B000LXQVA4\" \"B000M432IG\"\n",
       "[6] \"B000M49MO4\""
      ]
     },
     "metadata": {},
     "output_type": "display_data"
    }
   ],
   "source": [
    "# Sirve para extraer los productos recomendados al primer usuario\n",
    "recc_user_1 <- recc_predicted@items[[1]]\n",
    "product_user_1 <- recc_predicted@itemLabels[recc_user_1]\n",
    "product_user_1\n",
    "\n",
    "# Viene del libro\n",
    "# recc_user_1 <- recc_predicted@items[[1]]\n",
    "# movies_user_1 <- recc_predicted@itemLabels[recc_user_1]\n",
    "# movies_user_1"
   ]
  },
  {
   "cell_type": "code",
   "execution_count": 38,
   "metadata": {},
   "outputs": [
    {
     "data": {
      "text/html": [
       "<table>\n",
       "<tbody>\n",
       "\t<tr><th scope=row>06abj05</th><td>B000N9H4SE, B000RHJT6C, B000KW3ZE6, B000LXQVA4, B000M432IG, B000M49MO4</td></tr>\n",
       "\t<tr><th scope=row>06abj07</th><td>B000A88JZA, B000COY136, B000CCEWBY, B0009RG8WS, B000056J76, B000056OV0</td></tr>\n",
       "\t<tr><th scope=row>102Riley102riley</th><td>B000056J76, B000056OV0, B00005BMDX, B00005JIVI, B000RFCXIK, B000RZNJII</td></tr>\n",
       "\t<tr><th scope=row>19WizardofOz</th><td>B000CSBP9K, B000RHWN42, B000EDJ1A8, B000GB0NZK, B000GJIE4E, B000GOUUR8</td></tr>\n",
       "\t<tr><th scope=row>1Mom</th><td>B0009RG8WS, B000BNQC58, B000CPGYTY, B000I2MRHO, B000IDSLOG, B000JM4R8U</td></tr>\n",
       "\t<tr><th scope=row>1sam127</th><td>B000RHWN42</td></tr>\n",
       "\t<tr><th scope=row>1sttimeMom</th><td>B0009RG8WS, B000056J76, B000056OV0, B00005BMDX, B00005JIVI, B00006966I</td></tr>\n",
       "\t<tr><th scope=row>1stTimeMommy2B</th><td>B000RHWN42, B000RHJT6C, B000RZNJII, B000TFMIMY, B000TILSOU</td></tr>\n",
       "\t<tr><th scope=row>2010NewMom</th><td>B0009RG8WS, B000RHJT6C, B000056J76, B000056OV0, B00005BMDX, B00005JIVI</td></tr>\n",
       "\t<tr><th scope=row>20BIGRED02</th><td>B0009RG8WS, B000RHWN42, B000BVKPNA, B000BNQC58, B000056J76, B000056OV0</td></tr>\n",
       "\t<tr><th scope=row>2boys_and_a_mom</th><td>B000056J76, B000056OV0, B00005BMDX, B00005JIVI, B00006966I, B000BVKPNA</td></tr>\n",
       "\t<tr><th scope=row>2boysMom</th><td>B000EDJ1A8, B000COY136, B000TFMIMY, B000TILSOU, B000CSBP9K, B000JM4R8U</td></tr>\n",
       "\t<tr><th scope=row>2cents</th><td>B000056J76, B000056OV0, B00005BMDX, B00005JIVI, B00006966I</td></tr>\n",
       "\t<tr><th scope=row>Samantha</th><td>B000056J76, B000056OV0, B00005BMDX, B00005JIVI, B00006966I, B000RHWN42</td></tr>\n",
       "\t<tr><th scope=row>sara</th><td></td></tr>\n",
       "\t<tr><th scope=row>tara</th><td>B000056J76, B000056OV0, B00005BMDX, B00005JIVI, B00006966I</td></tr>\n",
       "</tbody>\n",
       "</table>\n"
      ],
      "text/latex": [
       "\\begin{tabular}{r|l}\n",
       "\t06abj05 & B000N9H4SE, B000RHJT6C, B000KW3ZE6, B000LXQVA4, B000M432IG, B000M49MO4\\\\\n",
       "\t06abj07 & B000A88JZA, B000COY136, B000CCEWBY, B0009RG8WS, B000056J76, B000056OV0\\\\\n",
       "\t102Riley102riley & B000056J76, B000056OV0, B00005BMDX, B00005JIVI, B000RFCXIK, B000RZNJII\\\\\n",
       "\t19WizardofOz & B000CSBP9K, B000RHWN42, B000EDJ1A8, B000GB0NZK, B000GJIE4E, B000GOUUR8\\\\\n",
       "\t1Mom & B0009RG8WS, B000BNQC58, B000CPGYTY, B000I2MRHO, B000IDSLOG, B000JM4R8U\\\\\n",
       "\t1sam127 & B000RHWN42\\\\\n",
       "\t1sttimeMom & B0009RG8WS, B000056J76, B000056OV0, B00005BMDX, B00005JIVI, B00006966I\\\\\n",
       "\t1stTimeMommy2B & B000RHWN42, B000RHJT6C, B000RZNJII, B000TFMIMY, B000TILSOU\\\\\n",
       "\t2010NewMom & B0009RG8WS, B000RHJT6C, B000056J76, B000056OV0, B00005BMDX, B00005JIVI\\\\\n",
       "\t20BIGRED02 & B0009RG8WS, B000RHWN42, B000BVKPNA, B000BNQC58, B000056J76, B000056OV0\\\\\n",
       "\t2boys\\_and\\_a\\_mom & B000056J76, B000056OV0, B00005BMDX, B00005JIVI, B00006966I, B000BVKPNA\\\\\n",
       "\t2boysMom & B000EDJ1A8, B000COY136, B000TFMIMY, B000TILSOU, B000CSBP9K, B000JM4R8U\\\\\n",
       "\t2cents & B000056J76, B000056OV0, B00005BMDX, B00005JIVI, B00006966I\\\\\n",
       "\tSamantha & B000056J76, B000056OV0, B00005BMDX, B00005JIVI, B00006966I, B000RHWN42\\\\\n",
       "\tsara & \\\\\n",
       "\ttara & B000056J76, B000056OV0, B00005BMDX, B00005JIVI, B00006966I\\\\\n",
       "\\end{tabular}\n"
      ],
      "text/markdown": [
       "\n",
       "| 06abj05 | B000N9H4SE, B000RHJT6C, B000KW3ZE6, B000LXQVA4, B000M432IG, B000M49MO4 | \n",
       "| 06abj07 | B000A88JZA, B000COY136, B000CCEWBY, B0009RG8WS, B000056J76, B000056OV0 | \n",
       "| 102Riley102riley | B000056J76, B000056OV0, B00005BMDX, B00005JIVI, B000RFCXIK, B000RZNJII | \n",
       "| 19WizardofOz | B000CSBP9K, B000RHWN42, B000EDJ1A8, B000GB0NZK, B000GJIE4E, B000GOUUR8 | \n",
       "| 1Mom | B0009RG8WS, B000BNQC58, B000CPGYTY, B000I2MRHO, B000IDSLOG, B000JM4R8U | \n",
       "| 1sam127 | B000RHWN42 | \n",
       "| 1sttimeMom | B0009RG8WS, B000056J76, B000056OV0, B00005BMDX, B00005JIVI, B00006966I | \n",
       "| 1stTimeMommy2B | B000RHWN42, B000RHJT6C, B000RZNJII, B000TFMIMY, B000TILSOU | \n",
       "| 2010NewMom | B0009RG8WS, B000RHJT6C, B000056J76, B000056OV0, B00005BMDX, B00005JIVI | \n",
       "| 20BIGRED02 | B0009RG8WS, B000RHWN42, B000BVKPNA, B000BNQC58, B000056J76, B000056OV0 | \n",
       "| 2boys_and_a_mom | B000056J76, B000056OV0, B00005BMDX, B00005JIVI, B00006966I, B000BVKPNA | \n",
       "| 2boysMom | B000EDJ1A8, B000COY136, B000TFMIMY, B000TILSOU, B000CSBP9K, B000JM4R8U | \n",
       "| 2cents | B000056J76, B000056OV0, B00005BMDX, B00005JIVI, B00006966I | \n",
       "| Samantha | B000056J76, B000056OV0, B00005BMDX, B00005JIVI, B00006966I, B000RHWN42 | \n",
       "| sara |  | \n",
       "| tara | B000056J76, B000056OV0, B00005BMDX, B00005JIVI, B00006966I | \n",
       "\n",
       "\n"
      ],
      "text/plain": [
       "                 [,1]                                                                  \n",
       "06abj05          B000N9H4SE, B000RHJT6C, B000KW3ZE6, B000LXQVA4, B000M432IG, B000M49MO4\n",
       "06abj07          B000A88JZA, B000COY136, B000CCEWBY, B0009RG8WS, B000056J76, B000056OV0\n",
       "102Riley102riley B000056J76, B000056OV0, B00005BMDX, B00005JIVI, B000RFCXIK, B000RZNJII\n",
       "19WizardofOz     B000CSBP9K, B000RHWN42, B000EDJ1A8, B000GB0NZK, B000GJIE4E, B000GOUUR8\n",
       "1Mom             B0009RG8WS, B000BNQC58, B000CPGYTY, B000I2MRHO, B000IDSLOG, B000JM4R8U\n",
       "1sam127          B000RHWN42                                                            \n",
       "1sttimeMom       B0009RG8WS, B000056J76, B000056OV0, B00005BMDX, B00005JIVI, B00006966I\n",
       "1stTimeMommy2B   B000RHWN42, B000RHJT6C, B000RZNJII, B000TFMIMY, B000TILSOU            \n",
       "2010NewMom       B0009RG8WS, B000RHJT6C, B000056J76, B000056OV0, B00005BMDX, B00005JIVI\n",
       "20BIGRED02       B0009RG8WS, B000RHWN42, B000BVKPNA, B000BNQC58, B000056J76, B000056OV0\n",
       "2boys_and_a_mom  B000056J76, B000056OV0, B00005BMDX, B00005JIVI, B00006966I, B000BVKPNA\n",
       "2boysMom         B000EDJ1A8, B000COY136, B000TFMIMY, B000TILSOU, B000CSBP9K, B000JM4R8U\n",
       "2cents           B000056J76, B000056OV0, B00005BMDX, B00005JIVI, B00006966I            \n",
       "Samantha         B000056J76, B000056OV0, B00005BMDX, B00005JIVI, B00006966I, B000RHWN42\n",
       "sara                                                                                   \n",
       "tara             B000056J76, B000056OV0, B00005BMDX, B00005JIVI, B00006966I            "
      ]
     },
     "metadata": {},
     "output_type": "display_data"
    }
   ],
   "source": [
    "# Sirve para definir la matriz de recomendación para cada usuario\n",
    "recc_matrix <- sapply(recc_predicted@items, function(x){\n",
    "    colnames(ratings_product)[x]\n",
    "})\n",
    "as.matrix(recc_matrix)\n",
    "\n",
    "# Viene del libro\n",
    "#recc_matrix <- sapply(recc_predicted@items, function(x){\n",
    "#    colnames(ratings_movies)[x]\n",
    "#})\n",
    "# dim(recc_matrix)"
   ]
  },
  {
   "cell_type": "code",
   "execution_count": 39,
   "metadata": {},
   "outputs": [
    {
     "data": {
      "text/html": [
       "<dl>\n",
       "\t<dt>$`06abj05`</dt>\n",
       "\t\t<dd><ol class=list-inline>\n",
       "\t<li>'B000N9H4SE'</li>\n",
       "\t<li>'B000RHJT6C'</li>\n",
       "\t<li>'B000KW3ZE6'</li>\n",
       "\t<li>'B000LXQVA4'</li>\n",
       "\t<li>'B000M432IG'</li>\n",
       "\t<li>'B000M49MO4'</li>\n",
       "</ol>\n",
       "</dd>\n",
       "\t<dt>$`06abj07`</dt>\n",
       "\t\t<dd><ol class=list-inline>\n",
       "\t<li>'B000A88JZA'</li>\n",
       "\t<li>'B000COY136'</li>\n",
       "\t<li>'B000CCEWBY'</li>\n",
       "\t<li>'B0009RG8WS'</li>\n",
       "\t<li>'B000056J76'</li>\n",
       "\t<li>'B000056OV0'</li>\n",
       "</ol>\n",
       "</dd>\n",
       "\t<dt>$`102Riley102riley`</dt>\n",
       "\t\t<dd><ol class=list-inline>\n",
       "\t<li>'B000056J76'</li>\n",
       "\t<li>'B000056OV0'</li>\n",
       "\t<li>'B00005BMDX'</li>\n",
       "\t<li>'B00005JIVI'</li>\n",
       "\t<li>'B000RFCXIK'</li>\n",
       "\t<li>'B000RZNJII'</li>\n",
       "</ol>\n",
       "</dd>\n",
       "\t<dt>$`19WizardofOz`</dt>\n",
       "\t\t<dd><ol class=list-inline>\n",
       "\t<li>'B000CSBP9K'</li>\n",
       "\t<li>'B000RHWN42'</li>\n",
       "\t<li>'B000EDJ1A8'</li>\n",
       "\t<li>'B000GB0NZK'</li>\n",
       "\t<li>'B000GJIE4E'</li>\n",
       "\t<li>'B000GOUUR8'</li>\n",
       "</ol>\n",
       "</dd>\n",
       "</dl>\n"
      ],
      "text/latex": [
       "\\begin{description}\n",
       "\\item[\\$`06abj05`] \\begin{enumerate*}\n",
       "\\item 'B000N9H4SE'\n",
       "\\item 'B000RHJT6C'\n",
       "\\item 'B000KW3ZE6'\n",
       "\\item 'B000LXQVA4'\n",
       "\\item 'B000M432IG'\n",
       "\\item 'B000M49MO4'\n",
       "\\end{enumerate*}\n",
       "\n",
       "\\item[\\$`06abj07`] \\begin{enumerate*}\n",
       "\\item 'B000A88JZA'\n",
       "\\item 'B000COY136'\n",
       "\\item 'B000CCEWBY'\n",
       "\\item 'B0009RG8WS'\n",
       "\\item 'B000056J76'\n",
       "\\item 'B000056OV0'\n",
       "\\end{enumerate*}\n",
       "\n",
       "\\item[\\$`102Riley102riley`] \\begin{enumerate*}\n",
       "\\item 'B000056J76'\n",
       "\\item 'B000056OV0'\n",
       "\\item 'B00005BMDX'\n",
       "\\item 'B00005JIVI'\n",
       "\\item 'B000RFCXIK'\n",
       "\\item 'B000RZNJII'\n",
       "\\end{enumerate*}\n",
       "\n",
       "\\item[\\$`19WizardofOz`] \\begin{enumerate*}\n",
       "\\item 'B000CSBP9K'\n",
       "\\item 'B000RHWN42'\n",
       "\\item 'B000EDJ1A8'\n",
       "\\item 'B000GB0NZK'\n",
       "\\item 'B000GJIE4E'\n",
       "\\item 'B000GOUUR8'\n",
       "\\end{enumerate*}\n",
       "\n",
       "\\end{description}\n"
      ],
      "text/markdown": [
       "$`06abj05`\n",
       ":   1. 'B000N9H4SE'\n",
       "2. 'B000RHJT6C'\n",
       "3. 'B000KW3ZE6'\n",
       "4. 'B000LXQVA4'\n",
       "5. 'B000M432IG'\n",
       "6. 'B000M49MO4'\n",
       "\n",
       "\n",
       "\n",
       "$`06abj07`\n",
       ":   1. 'B000A88JZA'\n",
       "2. 'B000COY136'\n",
       "3. 'B000CCEWBY'\n",
       "4. 'B0009RG8WS'\n",
       "5. 'B000056J76'\n",
       "6. 'B000056OV0'\n",
       "\n",
       "\n",
       "\n",
       "$`102Riley102riley`\n",
       ":   1. 'B000056J76'\n",
       "2. 'B000056OV0'\n",
       "3. 'B00005BMDX'\n",
       "4. 'B00005JIVI'\n",
       "5. 'B000RFCXIK'\n",
       "6. 'B000RZNJII'\n",
       "\n",
       "\n",
       "\n",
       "$`19WizardofOz`\n",
       ":   1. 'B000CSBP9K'\n",
       "2. 'B000RHWN42'\n",
       "3. 'B000EDJ1A8'\n",
       "4. 'B000GB0NZK'\n",
       "5. 'B000GJIE4E'\n",
       "6. 'B000GOUUR8'\n",
       "\n",
       "\n",
       "\n",
       "\n",
       "\n"
      ],
      "text/plain": [
       "$`06abj05`\n",
       "[1] \"B000N9H4SE\" \"B000RHJT6C\" \"B000KW3ZE6\" \"B000LXQVA4\" \"B000M432IG\"\n",
       "[6] \"B000M49MO4\"\n",
       "\n",
       "$`06abj07`\n",
       "[1] \"B000A88JZA\" \"B000COY136\" \"B000CCEWBY\" \"B0009RG8WS\" \"B000056J76\"\n",
       "[6] \"B000056OV0\"\n",
       "\n",
       "$`102Riley102riley`\n",
       "[1] \"B000056J76\" \"B000056OV0\" \"B00005BMDX\" \"B00005JIVI\" \"B000RFCXIK\"\n",
       "[6] \"B000RZNJII\"\n",
       "\n",
       "$`19WizardofOz`\n",
       "[1] \"B000CSBP9K\" \"B000RHWN42\" \"B000EDJ1A8\" \"B000GB0NZK\" \"B000GJIE4E\"\n",
       "[6] \"B000GOUUR8\"\n"
      ]
     },
     "metadata": {},
     "output_type": "display_data"
    }
   ],
   "source": [
    "# Siver para ver la recomendación de los primeros 4 usuarios\n",
    "as.matrix(recc_matrix)[1:4,]\n",
    "\n",
    "# Viene del libro\n",
    "# recc_matrix[, 1:4]"
   ]
  },
  {
   "cell_type": "code",
   "execution_count": null,
   "metadata": {},
   "outputs": [],
   "source": []
  },
  {
   "cell_type": "markdown",
   "metadata": {
    "collapsed": true
   },
   "source": [
    "5. Conclusión de las recomendaciones\n",
    "=="
   ]
  },
  {
   "cell_type": "markdown",
   "metadata": {},
   "source": [
    "* A los clientes que no calificaron algunos productos, se les hizo una predicción sobre que productos calificarán proximamente, basado en sus vecinos más cercanos.\n",
    "\n",
    "* Ejemplo el sujeto **06abj05** calificará los productos **'B00RZnJII', 'B000RHJT6C' 'B000NSBBIY' 'B000TFMIMY' 'B000TILSOU' 'B000RHWN42'** proximamente según la recomendación que dio el algoritmo.\n",
    "\n",
    "* En la exploración encontramos que los datos tienen que tener una relación tanto en productos como usuarios que califican los mismos productos, ya que las métricas y la matriz de similaridad depende de ello para ser calculadas.\n",
    "\n"
   ]
  },
  {
   "cell_type": "markdown",
   "metadata": {},
   "source": [
    "6. Referencias bibliográficas\n",
    "=="
   ]
  },
  {
   "cell_type": "markdown",
   "metadata": {},
   "source": [
    "* El análisis se hizo con el paquete de R (recommenderlab) cuyo libro base es (Building a Recommendation System with R [Usuelli, Gorakala - 2015])."
   ]
  }
 ],
 "metadata": {
  "kernelspec": {
   "display_name": "R",
   "language": "R",
   "name": "ir"
  },
  "language_info": {
   "codemirror_mode": "r",
   "file_extension": ".r",
   "mimetype": "text/x-r-source",
   "name": "R",
   "pygments_lexer": "r",
   "version": "3.4.1"
  }
 },
 "nbformat": 4,
 "nbformat_minor": 2
}
